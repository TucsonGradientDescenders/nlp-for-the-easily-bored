{
 "cells": [
  {
   "cell_type": "code",
   "execution_count": 80,
   "metadata": {
    "collapsed": false,
    "slideshow": {
     "slide_type": "notes"
    }
   },
   "outputs": [
    {
     "data": {
      "application/javascript": [
       "IPython.OutputArea.auto_scroll_threshold = 10;"
      ],
      "text/plain": [
       "<IPython.core.display.Javascript object>"
      ]
     },
     "metadata": {},
     "output_type": "display_data"
    }
   ],
   "source": [
    "%%javascript\n",
    "IPython.OutputArea.auto_scroll_threshold = 10;"
   ]
  },
  {
   "cell_type": "markdown",
   "metadata": {
    "slideshow": {
     "slide_type": "slide"
    }
   },
   "source": [
    "# Making sense of the news"
   ]
  },
  {
   "cell_type": "markdown",
   "metadata": {
    "slideshow": {
     "slide_type": "subslide"
    }
   },
   "source": [
    "How can we get information out of a news story on the web?"
   ]
  },
  {
   "cell_type": "markdown",
   "metadata": {
    "slideshow": {
     "slide_type": "slide"
    }
   },
   "source": [
    "### Getting started"
   ]
  },
  {
   "cell_type": "markdown",
   "metadata": {
    "slideshow": {
     "slide_type": "subslide"
    }
   },
   "source": [
    "What we'll be using...\n",
    "  1. Our news source for this demo:\n",
    "      - [The Guardian](https://www.theguardian.com/world)\n",
    "  2. Libraries for retrieving and processing html:\n",
    "      - [`requests`](http://docs.python-requests.org/en/master/) and [`BeautifulSoup`](https://www.crummy.com/software/BeautifulSoup/bs4/doc/)\n",
    "  3. NLP:\n",
    "      - [`py-processors`](http://py-processors.readthedocs.io/en/latest/)"
   ]
  },
  {
   "cell_type": "markdown",
   "metadata": {
    "slideshow": {
     "slide_type": "notes"
    }
   },
   "source": [
    "`fn`+down/up on a OSX to navigate sub-slides"
   ]
  },
  {
   "cell_type": "code",
   "execution_count": 70,
   "metadata": {
    "collapsed": true,
    "slideshow": {
     "slide_type": "subslide"
    }
   },
   "outputs": [],
   "source": [
    "from bs4 import BeautifulSoup\n",
    "from processors import *\n",
    "import requests"
   ]
  },
  {
   "cell_type": "markdown",
   "metadata": {
    "slideshow": {
     "slide_type": "subslide"
    }
   },
   "source": [
    "## Initialize the NLP server"
   ]
  },
  {
   "cell_type": "code",
   "execution_count": 81,
   "metadata": {
    "collapsed": false,
    "slideshow": {
     "slide_type": "fragment"
    }
   },
   "outputs": [
    {
     "name": "stdout",
     "output_type": "stream",
     "text": [
      "Using default\n",
      "Connection with server established!\n"
     ]
    }
   ],
   "source": [
    "# We'll be using the server in several examples\n",
    "# NOTE: you can stop it manually with API.stop_server()\n",
    "API = ProcessorsAPI(port=8886, keep_alive=True)"
   ]
  },
  {
   "cell_type": "markdown",
   "metadata": {
    "slideshow": {
     "slide_type": "slide"
    }
   },
   "source": [
    "# Retrieving a news story"
   ]
  },
  {
   "cell_type": "markdown",
   "metadata": {
    "slideshow": {
     "slide_type": "subslide"
    }
   },
   "source": [
    "- Let's take a look at the first story the Guardian reported on the Snowden Leaks"
   ]
  },
  {
   "cell_type": "code",
   "execution_count": 72,
   "metadata": {
    "collapsed": true,
    "slideshow": {
     "slide_type": "subslide"
    }
   },
   "outputs": [],
   "source": [
    "url = \"https://www.theguardian.com/world/2013/jun/09/edward-snowden-nsa-whistleblower-surveillance\"\n",
    "response = requests.get(url)\n",
    "html = response.text\n",
    "soup = BeautifulSoup(html, \"html.parser\")\n",
    "#article_title = soup.title.text"
   ]
  },
  {
   "cell_type": "markdown",
   "metadata": {
    "slideshow": {
     "slide_type": "slide"
    }
   },
   "source": [
    "# View the extracted text"
   ]
  },
  {
   "cell_type": "code",
   "execution_count": 73,
   "metadata": {
    "collapsed": false,
    "slideshow": {
     "slide_type": "subslide"
    }
   },
   "outputs": [
    {
     "name": "stdout",
     "output_type": "stream",
     "text": [
      "\n",
      "Glenn Greenwald, \n",
      "Ewen MacAskill and \n",
      "Laura Poitras in Hong Kong\n",
      "\n",
      "\n",
      "Tuesday 11 June 2013 09.00 EDT\n",
      "\n",
      "\n",
      "The individual responsible for one of the most significant leaks in US political history is Edward Snowden, a 29-year-old former technical assistant for the CIA and current employee of the defence contractor Booz Allen Hamilton. Snowden has been working at the National Security Agency for the last four years as an employee of various outside contractors, including Booz Allen and Dell.\n"
     ]
    }
   ],
   "source": [
    "article_text = [p.text for p in soup.find_all(\"p\")]\n",
    "limit = 3\n",
    "for i in range(limit):\n",
    "    text = article_text[i]\n",
    "    print(text)"
   ]
  },
  {
   "cell_type": "markdown",
   "metadata": {
    "slideshow": {
     "slide_type": "slide"
    }
   },
   "source": [
    "# Do we have any Named Entities?"
   ]
  },
  {
   "cell_type": "code",
   "execution_count": 74,
   "metadata": {
    "collapsed": false,
    "slideshow": {
     "slide_type": "subslide"
    }
   },
   "outputs": [
    {
     "name": "stdout",
     "output_type": "stream",
     "text": [
      "{\n",
      "    \"PERSON\": [\n",
      "        \"Glenn Greenwald\",\n",
      "        \"Ewen MacAskill\",\n",
      "        \"Laura Poitras\"\n",
      "    ]\n",
      "}\n",
      "\n",
      "{\n",
      "    \"DATE\": [\n",
      "        \"Tuesday 11 June 2013\"\n",
      "    ],\n",
      "    \"NUMBER\": [\n",
      "        \"09.00\"\n",
      "    ]\n",
      "}\n",
      "\n",
      "{\n",
      "    \"DATE\": [\n",
      "        \"current\"\n",
      "    ],\n",
      "    \"DURATION\": [\n",
      "        \"29-year-old\",\n",
      "        \"the last four years\"\n",
      "    ],\n",
      "    \"LOCATION\": [\n",
      "        \"US\"\n",
      "    ],\n",
      "    \"NUMBER\": [\n",
      "        \"one\"\n",
      "    ],\n",
      "    \"ORGANIZATION\": [\n",
      "        \"CIA\",\n",
      "        \"National Security Agency\",\n",
      "        \"Dell\"\n",
      "    ],\n",
      "    \"PERSON\": [\n",
      "        \"Edward Snowden\",\n",
      "        \"Booz Allen Hamilton\",\n",
      "        \"Snowden\",\n",
      "        \"Booz Allen\"\n",
      "    ]\n",
      "}\n",
      "\n"
     ]
    }
   ],
   "source": [
    "for i in range(limit):\n",
    "    doc = API.fastnlp.annotate(article_text[i].strip())\n",
    "    formatted_dict = json.dumps(doc.nes, sort_keys=True, indent=4)\n",
    "    print(\"{}\\n\".format(formatted_dict))"
   ]
  },
  {
   "cell_type": "markdown",
   "metadata": {
    "slideshow": {
     "slide_type": "slide"
    }
   },
   "source": [
    "# Where did these labels come from?\n"
   ]
  },
  {
   "cell_type": "code",
   "execution_count": 75,
   "metadata": {
    "collapsed": false,
    "slideshow": {
     "slide_type": "subslide"
    }
   },
   "outputs": [
    {
     "name": "stdout",
     "output_type": "stream",
     "text": [
      "Glenn           PERSON\n",
      "Greenwald       PERSON\n",
      ",               O\n",
      "Ewen            PERSON\n",
      "MacAskill       PERSON\n",
      "and             O\n",
      "Laura           PERSON\n",
      "Poitras         PERSON\n",
      "in              O\n",
      "Hong            LOCATION\n",
      "Kong            LOCATION\n"
     ]
    }
   ],
   "source": [
    "# annotate the text of the first paragraph\n",
    "doc = API.fastnlp.annotate(article_text[0].strip())\n",
    "sentence = doc.sentences[0]\n",
    "# print each word and it's NE label\n",
    "for i in range(len(sentence.words)):\n",
    "    entity_label = sentence._entities[i]\n",
    "    word = sentence.words[i]\n",
    "    print(\"{:<15} {}\".format(word, entity_label))"
   ]
  },
  {
   "cell_type": "markdown",
   "metadata": {
    "slideshow": {
     "slide_type": "slide"
    }
   },
   "source": [
    "## Challenge"
   ]
  },
  {
   "cell_type": "markdown",
   "metadata": {
    "slideshow": {
     "slide_type": "subslide"
    }
   },
   "source": [
    "<code>'PERSON': [<span style=\"color:gray\">'Edward Snowden', <strong><span style=\"color:red\">'Booz Allen Hamilton'</span></strong>, 'Snowden', <strong><span style=\"color:red\">'Booz Allen'</span></strong></span>]</code>"
   ]
  },
  {
   "cell_type": "markdown",
   "metadata": {
    "slideshow": {
     "slide_type": "subslide"
    }
   },
   "source": [
    "`Booz Allen Hamilton` should be an `ORGANIZATION`\n",
    "  - **Challenge**: How can we fix this?"
   ]
  }
 ],
 "metadata": {
  "celltoolbar": "Slideshow",
  "kernelspec": {
   "display_name": "Python 3",
   "language": "python",
   "name": "python3"
  },
  "language_info": {
   "codemirror_mode": {
    "name": "ipython",
    "version": 3
   },
   "file_extension": ".py",
   "mimetype": "text/x-python",
   "name": "python",
   "nbconvert_exporter": "python",
   "pygments_lexer": "ipython3",
   "version": "3.5.1"
  }
 },
 "nbformat": 4,
 "nbformat_minor": 0
}
