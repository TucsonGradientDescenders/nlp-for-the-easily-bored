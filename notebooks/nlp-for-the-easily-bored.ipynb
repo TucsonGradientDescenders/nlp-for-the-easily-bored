{
 "cells": [
  {
   "cell_type": "markdown",
   "metadata": {
    "slideshow": {
     "slide_type": "slide"
    }
   },
   "source": [
    "# NLP* for the easily bored\n",
    "\n",
    "- NLP* $\\rightarrow$ Natural Language Processing\n"
   ]
  },
  {
   "cell_type": "markdown",
   "metadata": {
    "slideshow": {
     "slide_type": "slide"
    }
   },
   "source": [
    "### If you came for the other NLP (Neuro Linguistic Programming)$\\dots$\n",
    "\n",
    "\n"
   ]
  },
  {
   "cell_type": "markdown",
   "metadata": {
    "slideshow": {
     "slide_type": "fragment"
    }
   },
   "source": [
    "### _There may be a refund available!_"
   ]
  },
  {
   "cell_type": "markdown",
   "metadata": {
    "slideshow": {
     "slide_type": "slide"
    }
   },
   "source": [
    "# What's Natural Language Processing?\n"
   ]
  },
  {
   "cell_type": "markdown",
   "metadata": {
    "slideshow": {
     "slide_type": "fragment"
    }
   },
   "source": [
    "**Goal**: teach computers how to understand human language"
   ]
  },
  {
   "cell_type": "markdown",
   "metadata": {
    "slideshow": {
     "slide_type": "subslide"
    }
   },
   "source": [
    "## Problems addressed by NLP\n",
    "\n",
    "- machine translation\n",
    "\n",
    "- text summarization\n",
    "\n",
    "- automatic speech recognition\n",
    "\n",
    "- question answering\n",
    "\n",
    "- $\\dots$"
   ]
  },
  {
   "cell_type": "markdown",
   "metadata": {
    "slideshow": {
     "slide_type": "slide"
    }
   },
   "source": [
    "## NLP is an interdisciplinary field"
   ]
  },
  {
   "cell_type": "markdown",
   "metadata": {
    "slideshow": {
     "slide_type": "fragment"
    }
   },
   "source": [
    "<p align=\"center\">\n",
    "    <img src=\"figs/nlp-breakdown.png\" width=500 height=500>\n",
    "</p>"
   ]
  },
  {
   "cell_type": "markdown",
   "metadata": {
    "slideshow": {
     "slide_type": "slide"
    }
   },
   "source": [
    "# How is it different from Computational Linguistics?"
   ]
  },
  {
   "cell_type": "markdown",
   "metadata": {
    "slideshow": {
     "slide_type": "subslide"
    }
   },
   "source": [
    "### Computational Linguistics\n",
    "  - Computational approach to answering scientific questions about linguistics"
   ]
  },
  {
   "cell_type": "markdown",
   "metadata": {
    "slideshow": {
     "slide_type": "fragment"
    }
   },
   "source": [
    "### NLP\n",
    "  - Aims to solve real-world problems involving human language"
   ]
  },
  {
   "cell_type": "markdown",
   "metadata": {
    "slideshow": {
     "slide_type": "slide"
    }
   },
   "source": [
    "# What's easy? What's hard?"
   ]
  },
  {
   "cell_type": "markdown",
   "metadata": {
    "slideshow": {
     "slide_type": "subslide"
    }
   },
   "source": [
    "\n",
    "<p align=\"center\">\n",
    "    <img src=\"figs/state-of-nlp.jpg\">\n",
    "\n",
    "</p>\n",
    "_From Dan Jurafsky via https://twitter.com/cosminnegruseri/status/744961320655589376 _"
   ]
  },
  {
   "cell_type": "markdown",
   "metadata": {
    "slideshow": {
     "slide_type": "subslide"
    }
   },
   "source": [
    "### $\\dots$but that assessment is based on progress with English!\n"
   ]
  },
  {
   "cell_type": "markdown",
   "metadata": {
    "slideshow": {
     "slide_type": "slide"
    }
   },
   "source": [
    "# An example"
   ]
  },
  {
   "cell_type": "markdown",
   "metadata": {
    "slideshow": {
     "slide_type": "subslide"
    }
   },
   "source": [
    "## Word segmentation (tokenization)\n"
   ]
  },
  {
   "cell_type": "markdown",
   "metadata": {
    "slideshow": {
     "slide_type": "fragment"
    }
   },
   "source": [
    "### English\n",
    " - Are you still awake? $\\rightarrow$ [\"Are\", \"you\", \"still\", \"awake\", \"?\"]\n",
    "\n",
    "### Japanese\n",
    "\n",
    " - まだ起きてますか $\\rightarrow$ [\"まだ\", \"起きてます\", \"か\"]"
   ]
  },
  {
   "cell_type": "markdown",
   "metadata": {
    "slideshow": {
     "slide_type": "subslide"
    }
   },
   "source": [
    "### Well, actually that one is solved$\\dots$\n",
    "\n",
    "- Even so, the features indicating word boundaries can be very different across languages!"
   ]
  },
  {
   "cell_type": "markdown",
   "metadata": {
    "slideshow": {
     "slide_type": "slide"
    }
   },
   "source": [
    "# So what makes the hard stuff so hard?"
   ]
  },
  {
   "cell_type": "markdown",
   "metadata": {
    "slideshow": {
     "slide_type": "subslide"
    }
   },
   "source": [
    "## Ambiguities abound\n"
   ]
  },
  {
   "cell_type": "markdown",
   "metadata": {
    "slideshow": {
     "slide_type": "fragment"
    }
   },
   "source": [
    "- Words often have multiple senses\n",
    "\n",
    "- Homonyms\n",
    "    - bar, bat\n",
    "\n",
    "- Homographs\n",
    "    - bass\n",
    "    \n",
    "- Structural ambiguities\n",
    "    - \"I saw the boy with the telescope\""
   ]
  },
  {
   "cell_type": "markdown",
   "metadata": {
    "slideshow": {
     "slide_type": "skip"
    }
   },
   "source": [
    "\n",
    "### Let's use WordNet to try to disambiguate this sentence:\n",
    "\n",
    ">\"That stereo has great bass\""
   ]
  },
  {
   "cell_type": "markdown",
   "metadata": {
    "slideshow": {
     "slide_type": "skip"
    }
   },
   "source": [
    "```\n",
    "Word:   stereo\n",
    "Sense:    stereo.n.01\n",
    "Definition: reproducer in which two microphones feed two or more loudspeakers to give a three-dimensional effect to the sound\n",
    "\n",
    "Word:   has\n",
    "Sense:    have.v.01\n",
    "Definition: have or possess, either in a concrete or an abstract sense\n",
    "\n",
    "Word:   great\n",
    "Sense:    great.s.01\n",
    "Definition: relatively large in size or number or extent; larger than others of its kind\n",
    "\n",
    "Word:   bass\n",
    "Sense:    bass.n.01\n",
    "Definition: the lowest part of the musical range\n",
    "```\n",
    "That stereo.n.01 have.v.01 great.s.01 bass.n.01 ."
   ]
  },
  {
   "cell_type": "markdown",
   "metadata": {
    "slideshow": {
     "slide_type": "skip"
    }
   },
   "source": [
    "Wordnet-based disambiguation using the Lesk algorithm\n",
    "\n",
    "```\n",
    "Word:   stereo\n",
    "Sense:    stereo.n.02\n",
    "Definition: two photographs taken from slightly different angles that appear three-dimensional when viewed together\n",
    "\n",
    "Word:   has\n",
    "Sense:    take.v.35\n",
    "Definition: have sex with; archaic use\n",
    "\n",
    "Word:   great\n",
    "Sense:    great.s.03\n",
    "Definition: remarkable or out of the ordinary in degree or magnitude or effect\n",
    "\n",
    "Word:   bass\n",
    "Sense:    sea_bass.n.01\n",
    "Definition: the lean flesh of a saltwater fish of the family Serranidae\n",
    "```\n",
    "\n",
    "That stereo.n.02 take.v.35 great.s.03 sea_bass.n.01 ."
   ]
  },
  {
   "cell_type": "markdown",
   "metadata": {
    "slideshow": {
     "slide_type": "slide"
    }
   },
   "source": [
    "# The big secret\n",
    "\n",
    "\n",
    "\n"
   ]
  },
  {
   "cell_type": "markdown",
   "metadata": {
    "slideshow": {
     "slide_type": "fragment"
    }
   },
   "source": [
    "### ( _most of NLP is still unsolved_ )"
   ]
  },
  {
   "cell_type": "markdown",
   "metadata": {
    "slideshow": {
     "slide_type": "subslide"
    }
   },
   "source": [
    "## But what we have is already very useful!"
   ]
  },
  {
   "cell_type": "markdown",
   "metadata": {
    "slideshow": {
     "slide_type": "slide"
    }
   },
   "source": [
    "# NLP is too broad to cover here\n"
   ]
  },
  {
   "cell_type": "markdown",
   "metadata": {
    "slideshow": {
     "slide_type": "fragment"
    }
   },
   "source": [
    "- Let's look at one common task$\\dots$"
   ]
  },
  {
   "cell_type": "markdown",
   "metadata": {
    "slideshow": {
     "slide_type": "slide"
    }
   },
   "source": [
    "# Information Extraction\n",
    "\n",
    "- Unstructured $\\rightarrow$ structured data"
   ]
  },
  {
   "cell_type": "markdown",
   "metadata": {
    "slideshow": {
     "slide_type": "subslide"
    }
   },
   "source": [
    ">Barack Hussein Obama II  (born August 4, 1961) is an American politician serving as the 44th President of the United States. He is the first African American to hold the office, as well as the first president born outside of the continental United States. Born in Honolulu, Hawaii, Obama is a graduate of Columbia University and Harvard Law School, where he served as president of the Harvard Law Review. He was a community organizer in Chicago before earning his law degree. He worked as a civil rights attorney and taught constitutional law at the University of Chicago Law School between 1992 and 2004. He served three terms representing the 13th District in the Illinois Senate from 1997 to 2004, and ran unsuccessfully in the Democratic primary for the United States House of Representatives in 2000 against incumbent Bobby Rush. [$\\dots$]"
   ]
  },
  {
   "cell_type": "markdown",
   "metadata": {
    "slideshow": {
     "slide_type": "subslide"
    }
   },
   "source": [
    "<p align=\"center\">\n",
    "    <img src=\"figs/infobox.png\">\n",
    "</p>"
   ]
  },
  {
   "cell_type": "markdown",
   "metadata": {
    "slideshow": {
     "slide_type": "slide"
    }
   },
   "source": [
    "# Why should I care?\n",
    "\n",
    "- Most of the data on the web is unstructured"
   ]
  },
  {
   "cell_type": "markdown",
   "metadata": {
    "slideshow": {
     "slide_type": "subslide"
    }
   },
   "source": [
    "## Example: LinkedIn\n",
    "\n",
    ">LinkedIn has a vast quantity of data. While much of the data is structured—graph nodes and edges, normalized fields in database records—a great deal of it is simply natural language text. [$\\dots$]  **We want to find entities, relations and economic events that correlate with and complement LinkedIn's understanding of the world's economy**, so that we as a company can help every person and organization everywhere reach their fullest potential. For us, an entity is a person, an organization, a location or one of the other types of entities that LinkedIn cares about, such as a title or a skill.\n",
    "\n",
    "_ from https://engineering.linkedin.com/data/nlp _"
   ]
  },
  {
   "cell_type": "markdown",
   "metadata": {
    "slideshow": {
     "slide_type": "subslide"
    }
   },
   "source": [
    "## Finding the who, what, when, etc.\n",
    "\n",
    "- **N**amed **E**ntity **R**ecognition (`PERSON`, `ORGANIZATION`, `LOCATION`, etc.)"
   ]
  },
  {
   "cell_type": "markdown",
   "metadata": {
    "slideshow": {
     "slide_type": "subslide"
    }
   },
   "source": [
    "# NER? What's challenging about that?"
   ]
  },
  {
   "cell_type": "markdown",
   "metadata": {
    "slideshow": {
     "slide_type": "subslide"
    }
   },
   "source": [
    "## Disambiguating Named Entities"
   ]
  },
  {
   "cell_type": "markdown",
   "metadata": {
    "slideshow": {
     "slide_type": "fragment"
    }
   },
   "source": [
    "### Which Washington?\n",
    "\n",
    " - If you're looking for somewhere to move, recreational use of cannabis is legal in [**Washington**]$_{LOCATION}$.\n",
    "\n",
    " - In an alternate universe, [**Washington**]$_{PERSON}$ was crowned King.\n",
    "\n",
    " - \"[**Washington**]$_{POLITICAL-ENTITY}$ responded to Erdogan's ultimatum\""
   ]
  },
  {
   "cell_type": "markdown",
   "metadata": {
    "slideshow": {
     "slide_type": "slide"
    }
   },
   "source": [
    "# Relation extraction: \n",
    "\n",
    "\n",
    "### beyond Named Entities"
   ]
  },
  {
   "cell_type": "markdown",
   "metadata": {
    "slideshow": {
     "slide_type": "subslide"
    }
   },
   "source": [
    "> [$\\dots$] Obama was born on August 4, 1961 in Kapiʻolani Maternity & Gynecological Hospital (now Kapiʻolani Medical Center for Women and Children) in Honolulu, Hawaii and is the first President to have been born in Hawaii.  His father was a black exchange student from Kenya named Barack Obama Sr.  He died in a motorcycle accident in Kenya in 1982.  His mother was a white woman from Kansas named Ann Dunham, who was an anthropologist and died from cancer.  His mother married Barack Obama Sr. in 1961 and divorced him in 1964.  His stepfather was from Indonesia named Lolo Soetoro after his mother married him in 1965.  She divorced in 1980. [$\\dots$]"
   ]
  },
  {
   "cell_type": "markdown",
   "metadata": {
    "slideshow": {
     "slide_type": "subslide"
    }
   },
   "source": [
    "<img src=\"figs/ie-example.png\" width=1000 height=500>"
   ]
  },
  {
   "cell_type": "markdown",
   "metadata": {
    "slideshow": {
     "slide_type": "slide"
    }
   },
   "source": [
    "# Getting started$\\dots$"
   ]
  }
 ],
 "metadata": {
  "celltoolbar": "Slideshow",
  "kernelspec": {
   "display_name": "Python 3",
   "language": "python",
   "name": "python3"
  },
  "language_info": {
   "codemirror_mode": {
    "name": "ipython",
    "version": 3
   },
   "file_extension": ".py",
   "mimetype": "text/x-python",
   "name": "python",
   "nbconvert_exporter": "python",
   "pygments_lexer": "ipython3",
   "version": "3.5.1"
  }
 },
 "nbformat": 4,
 "nbformat_minor": 0
}
