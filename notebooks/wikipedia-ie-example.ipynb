{
 "cells": [
  {
   "cell_type": "markdown",
   "metadata": {
    "slideshow": {
     "slide_type": "slide"
    }
   },
   "source": [
    "# Extracting triples from wikipedia\n",
    "\n",
    "- We'll use rules incorperating linguistic features to extract structured information from Wikipedia"
   ]
  },
  {
   "cell_type": "markdown",
   "metadata": {
    "slideshow": {
     "slide_type": "slide"
    }
   },
   "source": [
    "# Prepare our tools"
   ]
  },
  {
   "cell_type": "code",
   "execution_count": 1,
   "metadata": {
    "collapsed": true,
    "slideshow": {
     "slide_type": "fragment"
    }
   },
   "outputs": [],
   "source": [
    "from bs4 import BeautifulSoup\n",
    "import requests\n",
    "\n",
    "from processors import *"
   ]
  },
  {
   "cell_type": "code",
   "execution_count": 2,
   "metadata": {
    "collapsed": false,
    "slideshow": {
     "slide_type": "fragment"
    }
   },
   "outputs": [
    {
     "name": "stdout",
     "output_type": "stream",
     "text": [
      "Using default\n",
      "Connection with server established!\n"
     ]
    }
   ],
   "source": [
    "API = ProcessorsAPI(port=8886, keep_alive=True)"
   ]
  },
  {
   "cell_type": "markdown",
   "metadata": {
    "slideshow": {
     "slide_type": "subslide"
    }
   },
   "source": [
    "# Retrieve wiki text"
   ]
  },
  {
   "cell_type": "code",
   "execution_count": 3,
   "metadata": {
    "collapsed": false,
    "slideshow": {
     "slide_type": "fragment"
    }
   },
   "outputs": [
    {
     "data": {
      "text/plain": [
       "['President of the United States\\nIncumbent',\n",
       " 'First term',\n",
       " 'Cabinet\\nClimate change\\nEconomic\\nEnergy\\nJudicial Appointments\\nForeign\\n(Obama Doctrine)\\nForeign trips\\nPardons\\nSocial\\nSpace',\n",
       " 'Second term',\n",
       " 'Barack Hussein Obama II (US i/bəˈrɑːk huːˈseɪn oʊˈbɑːmə/;[1][2] born August 4, 1961) is an American politician serving as the 44th President of the United States. He is the first African American to hold the office, as well as the first president born outside of the continental United States. Born in Honolulu, Hawaii, Obama is a graduate of Columbia University and Harvard Law School, where he served as president of the Harvard Law Review. He was a community organizer in Chicago before earning his law degree. He worked as a civil rights attorney and taught constitutional law at the University of Chicago Law School between 1992 and 2004. He served three terms representing the 13th District in the Illinois Senate from 1997 to 2004, and ran unsuccessfully in the Democratic primary for the United States House of Representatives in 2000 against incumbent Bobby Rush.',\n",
       " 'In 2004, Obama received national attention during his campaign to represent Illinois in the United States Senate with his victory in the March Democratic Party primary, his keynote address at the Democratic National Convention in July, and his election to the Senate in November. He began his presidential campaign in 2007 and, after a close primary campaign against Hillary Clinton in 2008, he won sufficient delegates in the Democratic Party primaries to receive the presidential nomination. He then defeated Republican nominee John McCain in the general election, and was inaugurated as president on January 20, 2009. Nine months after his inauguration, Obama was named the 2009 Nobel Peace Prize laureate.',\n",
       " 'During his first two years in office, Obama signed into law economic stimulus legislation in response to the Great Recession in the form of the American Recovery and Reinvestment Act of 2009 and the Tax Relief, Unemployment Insurance Reauthorization, and Job Creation Act of 2010. Other major domestic initiatives in his first term included the Patient Protection and Affordable Care Act, often referred to as \"Obamacare\"; the Dodd–Frank Wall Street Reform and Consumer Protection Act; and the Don\\'t Ask, Don\\'t Tell Repeal Act of 2010. In foreign policy, Obama ended U.S. military involvement in the Iraq War, increased U.S. troop levels in Afghanistan, signed the New START arms control treaty with Russia, ordered U.S. military involvement in Libya in opposition to Muammar Gaddafi, and ordered the military operation that resulted in the death of Osama bin Laden. In January 2011, the Republicans regained control of the House of Representatives as the Democratic Party lost a total of 63 seats; and, after a lengthy debate over federal spending and whether or not to raise the nation\\'s debt limit, Obama signed the Budget Control Act of 2011 and the American Taxpayer Relief Act of 2012.',\n",
       " 'Obama was reelected president in November 2012, defeating Republican nominee Mitt Romney, and was sworn in for a second term on January 20, 2013. During his second term, Obama has promoted domestic policies related to gun control in response to the Sandy Hook Elementary School shooting, and has called for greater inclusiveness for LGBT Americans, while his administration has filed briefs which urged the Supreme Court to strike down part of the federal Defense of Marriage Act and state level same-sex marriage bans as unconstitutional. In foreign policy, Obama ordered U.S. military intervention in Iraq in response to gains made by the Islamic State after the 2011 withdrawal from Iraq, continued the process of ending U.S. combat operations in Afghanistan, promoted discussions that led to the 2015 Paris Agreement on global climate change, brokered a nuclear deal with Iran, and normalized U.S. relations with Cuba.',\n",
       " \"Obama was born on August 4, 1961,[3] at Kapiʻolani Maternity & Gynecological Hospital (now Kapiʻolani Medical Center for Women and Children) in Honolulu, Hawaii;[4][5][6] he is the first President to have been born in Hawaii.[7] His mother, Stanley Ann Dunham, born in Wichita, Kansas, was of mostly English ancestry.[8] His father, Barack Obama Sr., was a Luo from Nyang'oma Kogelo, Kenya. Obama's parents met in 1960 in a Russian language class at the University of Hawaii at Manoa, where his father was a foreign student on scholarship.[9][10] The couple married in Wailuku on Maui on February 2, 1961,[11][12] and separated when, in late August 1961, Obama's mother moved with their newborn son to attend the University of Washington in Seattle for a year. During that time, Obama Sr. completed his undergraduate economics degree in Hawaii in June 1962, then left to attend graduate school at Harvard University on a scholarship. Obama's parents divorced in March 1964.[13] Obama Sr. returned to Kenya in 1964 where he remarried; he visited Barack in Hawaii only once, in 1971.[14] He died in an automobile accident in 1982, his son being 21 years old at that time.[15]\",\n",
       " 'In 1963, Dunham met Lolo Soetoro, an Indonesian East–West Center graduate student in geography at the University of Hawaii, and the couple were married on Molokai on March 15, 1965.[16] After two one-year extensions of his J-1 visa, Lolo returned to Indonesia in 1966, followed sixteen months later by his wife and stepson in 1967, with the family initially living in a Menteng Dalam neighborhood in the Tebet subdistrict of south Jakarta, then from 1970 in a wealthier neighborhood in the Menteng subdistrict of central Jakarta.[17] From ages six to ten, Obama attended local Indonesian-language schools: Santo Fransiskus Asisi (St. Francis of Assisi) Catholic School for two years and Besuki Public School for one and a half years, supplemented by English-language Calvert School homeschooling by his mother.[18][19]',\n",
       " 'Obama returned to Honolulu in 1971 to live with his maternal grandparents, Madelyn and Stanley Dunham, and with the aid of a scholarship attended Punahou School, a private college preparatory school, from fifth grade until his graduation from high school in 1979.[20] In his youth, Obama went by the nickname Barry.[21] Obama lived with his mother and sister in Hawaii for three years from 1972 to 1975 while his mother was a graduate student in anthropology at the University of Hawaii.[22] Obama chose to stay in Hawaii with his grandparents for high school at Punahou when his mother and sister returned to Indonesia in 1975 so his mother could begin anthropology field work.[23] His mother spent most of the next two decades in Indonesia, divorcing Lolo in 1980 and earning a PhD degree in 1992, before dying in 1995 in Hawaii following treatment for ovarian cancer and uterine cancer.[24]',\n",
       " 'Of his early childhood, Obama recalled, \"That my father looked nothing like the people around me – that he was black as pitch, my mother white as milk – barely registered in my mind.\"[10] He described his struggles as a young adult to reconcile social perceptions of his multiracial heritage.[25] Reflecting later on his years in Honolulu, Obama wrote: \"The opportunity that Hawaii offered – to experience a variety of cultures in a climate of mutual respect – became an integral part of my world view, and a basis for the values that I hold most dear.\"[26] Obama has also written and talked about using alcohol, marijuana, and cocaine during his teenage years to \"push questions of who I was out of my mind\".[27] Obama was also a member of the \"choom gang\", a self-named group of friends that spent time together and occasionally smoked marijuana.[28][29]',\n",
       " \"After high school, Obama moved to Los Angeles in 1979 to attend Occidental College. In February 1981, Obama made his first public speech, calling for Occidental to participate in the disinvestment from South Africa in response to that nation's policy of apartheid.[30] In mid-1981, Obama traveled to Indonesia to visit his mother and half-sister Maya, and visited the families of college friends in Pakistan and India for three weeks.[30] Later in 1981, he transferred as a junior to Columbia College, Columbia University, in New York City, where he majored in political science with a specialty in international relations[31] and lived off-campus on West 109th Street.[32] He graduated with a BA degree in 1983 and worked for a year at the Business International Corporation,[33] then at the New York Public Interest Research Group.[34][35] In 1985, Obama was among the leaders of May Day efforts to bring attention to the New York City Subway system, which was in a bad condition at the time. Obama traveled to several subway stations to get people to sign letters addressed to local officials and the Metropolitan Transportation Authority, and was photographed at the City College subway station holding a sign protesting against the system's condition.[36]\",\n",
       " \"Two years after graduating, Obama was hired in Chicago as director of the Developing Communities Project, a church-based community organization originally comprising eight Catholic parishes in Roseland, West Pullman, and Riverdale on Chicago's South Side. He worked there as a community organizer from June 1985 to May 1988.[35][37] He helped set up a job training program, a college preparatory tutoring program, and a tenants' rights organization in Altgeld Gardens.[38] Obama also worked as a consultant and instructor for the Gamaliel Foundation, a community organizing institute.[39] In mid-1988, he traveled for the first time in Europe for three weeks and then for five weeks in Kenya, where he met many of his paternal relatives for the first time.[40][41]\",\n",
       " \"Obama entered Harvard Law School in the fall of 1988. He was selected as an editor of the Harvard Law Review at the end of his first year,[42] president of the journal in his second year,[38][43] and research assistant to the constitutional scholar Laurence Tribe while at Harvard for two years.[44] During his summers, he returned to Chicago, where he worked as an associate at the law firms of Sidley Austin in 1989 and Hopkins & Sutter in 1990.[45] After graduating with a JD degree magna cum laude[46] from Harvard in 1991, he returned to Chicago.[42] Obama's election as the first black president of the Harvard Law Review gained national media attention[38][43] and led to a publishing contract and advance for a book about race relations,[47] which evolved into a personal memoir. The manuscript was published in mid-1995 as Dreams from My Father.[47]\",\n",
       " 'In 1991, Obama accepted a two-year position as Visiting Law and Government Fellow at the University of Chicago Law School to work on his first book.[47][48] He then taught constitutional law at the University of Chicago Law School for twelve years, first as a Lecturer from 1992 to 1996, and then as a Senior Lecturer from 1996 to 2004.[49]',\n",
       " 'From April to October 1992, Obama directed Illinois\\'s Project Vote, a voter registration campaign with ten staffers and seven hundred volunteer registrars; it achieved its goal of registering 150,000 of 400,000 unregistered African Americans in the state, leading Crain\\'s Chicago Business to name Obama to its 1993 list of \"40 under Forty\" powers to be.[50]',\n",
       " 'He joined Davis, Miner, Barnhill & Galland, a 13-attorney law firm specializing in civil rights litigation and neighborhood economic development, where he was an associate for three years from 1993 to 1996, then of counsel from 1996 to 2004. In 1994, he was listed as one of the lawyers in Buycks-Roberson v. Citibank Fed. Sav. Bank, 94 C 4094 (N.D. Ill.).[51] This class action lawsuit was filed in 1994 with Selma Buycks-Roberson as lead plaintiff and alleged that Citibank Federal Savings Bank had engaged in practices forbidden under the Equal Credit Opportunity Act and the Fair Housing Act.[52] The case was settled out of court.[53] Final Judgment was issued on May 13, 1998 with Citibank Federal Savings Bank agreeing to pay attorney fees.[54] His law license became inactive in 2007.[55][56]',\n",
       " 'From 1994 to 2002, Obama served on the boards of directors of the Woods Fund of Chicago, which in 1985 had been the first foundation to fund the Developing Communities Project, and of the Joyce Foundation.[35] He served on the board of directors of the Chicago Annenberg Challenge from 1995 to 2002, as founding president and chairman of the board of directors from 1995 to 1999.[35]',\n",
       " \"Obama was elected to the Illinois Senate in 1996, succeeding Democratic State Senator Alice Palmer as Senator from Illinois's 13th District, which at that time spanned Chicago South Side neighborhoods from Hyde Park–Kenwood south to South Shore and west to Chicago Lawn.[57] Once elected, Obama gained bipartisan support for legislation that reformed ethics and health care laws.[58] He sponsored a law that increased tax credits for low-income workers, negotiated welfare reform, and promoted increased subsidies for childcare.[59] In 2001, as co-chairman of the bipartisan Joint Committee on Administrative Rules, Obama supported Republican Governor Ryan's payday loan regulations and predatory mortgage lending regulations aimed at averting home foreclosures.[60]\",\n",
       " \"He was reelected to the Illinois Senate in 1998, defeating Republican Yesse Yehudah in the general election, and was reelected again in 2002.[61] In 2000, he lost a Democratic primary race for Illinois's 1st congressional district in the United States House of Representatives to four-term incumbent Bobby Rush by a margin of two to one.[62]\",\n",
       " \"In January 2003, Obama became chairman of the Illinois Senate's Health and Human Services Committee when Democrats, after a decade in the minority, regained a majority.[63] He sponsored and led unanimous, bipartisan passage of legislation to monitor racial profiling by requiring police to record the race of drivers they detained, and legislation making Illinois the first state to mandate videotaping of homicide interrogations.[59][64] During his 2004 general election campaign for U.S. Senate, police representatives credited Obama for his active engagement with police organizations in enacting death penalty reforms.[65] Obama resigned from the Illinois Senate in November 2004 following his election to the U.S. Senate.[66]\",\n",
       " 'In May 2002, Obama commissioned a poll to assess his prospects in a 2004 U.S. Senate race. He created a campaign committee, began raising funds, and lined up political media consultant David Axelrod by August 2002. Obama formally announced his candidacy in January 2003.[67]',\n",
       " 'Obama was an early opponent of the George W. Bush administration\\'s 2003 invasion of Iraq.[68] On October 2, 2002, the day President Bush and Congress agreed on the joint resolution authorizing the Iraq War,[69] Obama addressed the first high-profile Chicago anti-Iraq War rally,[70] and spoke out against the war.[71] He addressed another anti-war rally in March 2003 and told the crowd that \"it\\'s not too late\" to stop the war.[72]',\n",
       " 'Decisions by Republican incumbent Peter Fitzgerald and his Democratic predecessor Carol Moseley Braun to not participate in the election resulted in wide-open Democratic and Republican primary contests involving fifteen candidates.[73] In the March 2004 primary election, Obama won in an unexpected landslide—which overnight made him a rising star within the national Democratic Party, started speculation about a presidential future, and led to the reissue of his memoir, Dreams from My Father.[74] In July 2004, Obama delivered the keynote address at the 2004 Democratic National Convention,[75] seen by 9.1\\xa0million viewers. His speech was well received and elevated his status within the Democratic Party.[76]',\n",
       " \"Obama's expected opponent in the general election, Republican primary winner Jack Ryan, withdrew from the race in June 2004.[77] Six weeks later, Alan Keyes accepted the Republican nomination to replace Ryan.[78] In the November 2004 general election, Obama won with 70\\xa0percent of the vote.[79]\",\n",
       " 'Obama was sworn in as a senator on January 3, 2005,[80] becoming the only Senate member of the Congressional Black Caucus.[81] CQ Weekly characterized him as a \"loyal Democrat\" based on analysis of all Senate votes from 2005 to 2007. Obama announced on November 13, 2008, that he would resign his Senate seat on November 16, 2008, before the start of the lame-duck session, to focus on his transition period for the presidency.[82]',\n",
       " 'Obama cosponsored the Secure America and Orderly Immigration Act.[83] He introduced two initiatives that bore his name: Lugar–Obama, which expanded the Nunn–Lugar Cooperative Threat Reduction concept to conventional weapons;[84] and the Federal Funding Accountability and Transparency Act of 2006, which authorized the establishment of USAspending.gov, a web search engine on federal spending.[85] On June 3, 2008, Senator Obama—along with Senators Tom Carper, Tom Coburn, and John McCain—introduced follow-up legislation: Strengthening Transparency and Accountability in Federal Spending Act of 2008.[86]',\n",
       " 'Obama sponsored legislation that would have required nuclear plant owners to notify state and local authorities of radioactive leaks, but the bill failed to pass in the full Senate after being heavily modified in committee.[87] Regarding tort reform, Obama voted for the Class Action Fairness Act of 2005 and the FISA Amendments Act of 2008, which grants immunity from civil liability to telecommunications companies complicit with NSA warrantless wiretapping operations.[88]',\n",
       " 'In December 2006, President Bush signed into law the Democratic Republic of the Congo Relief, Security, and Democracy Promotion Act, marking the first federal legislation to be enacted with Obama as its primary sponsor.[90] In January 2007, Obama and Senator Feingold introduced a corporate jet provision to the Honest Leadership and Open Government Act, which was signed into law in September 2007.[91] Obama also introduced two unsuccessful bills: the Deceptive Practices and Voter Intimidation Prevention Act to criminalize deceptive practices in federal elections,[92] and the Iraq War De-Escalation Act of 2007.[93]',\n",
       " \"Later in 2007, Obama sponsored an amendment to the Defense Authorization Act to add safeguards for personality-disorder military discharges.[94] This amendment passed the full Senate in the spring of 2008.[95] He sponsored the Iran Sanctions Enabling Act supporting divestment of state pension funds from Iran's oil and gas industry, which has not passed committee; and co-sponsored legislation to reduce risks of nuclear terrorism.[96] Obama also sponsored a Senate amendment to the State Children's Health Insurance Program, providing one year of job protection for family members caring for soldiers with combat-related injuries.[97]\",\n",
       " \"Obama held assignments on the Senate Committees for Foreign Relations, Environment and Public Works and Veterans' Affairs through December 2006.[98] In January 2007, he left the Environment and Public Works committee and took additional assignments with Health, Education, Labor and Pensions and Homeland Security and Governmental Affairs.[99] He also became Chairman of the Senate's subcommittee on European Affairs.[100] As a member of the Senate Foreign Relations Committee, Obama made official trips to Eastern Europe, the Middle East, Central Asia and Africa. He met with Mahmoud Abbas before Abbas became President of the Palestinian National Authority, and gave a speech at the University of Nairobi in which he condemned corruption within the Kenyan government.[101]\",\n",
       " 'On February 10, 2007, Obama announced his candidacy for President of the United States in front of the Old State Capitol building in Springfield, Illinois.[102][103] The choice of the announcement site was viewed as symbolic because it was also where Abraham Lincoln delivered his historic \"House Divided\" speech in 1858.[102][104] Obama emphasized issues of rapidly ending the Iraq War, increasing energy independence, and reforming the health care system,[105] in a campaign that projected themes of hope and change.[106]',\n",
       " 'Numerous candidates entered the Democratic Party presidential primaries. The field narrowed to a duel between Obama and Senator Hillary Clinton after early contests, with the race remaining close throughout the primary process but with Obama gaining a steady lead in pledged delegates due to better long-range planning, superior fundraising, dominant organizing in caucus states, and better exploitation of delegate allocation rules.[107] On June 7, 2008, Clinton ended her campaign and endorsed Obama.[108]',\n",
       " 'On August 23, Obama announced his selection of Delaware Senator Joe Biden as his vice presidential running mate.[109] Obama selected Biden from a field speculated to include former Indiana Governor and Senator Evan Bayh and Virginia Governor Tim Kaine.[110] At the Democratic National Convention in Denver, Colorado, Hillary Clinton called for her supporters to endorse Obama, and she and Bill Clinton gave convention speeches in his support.[111] Obama delivered his acceptance speech, not at the center where the Democratic National Convention was held, but at Invesco Field at Mile High to a crowd of over 75,000; the speech was viewed by over 38\\xa0million people worldwide.[112][113]',\n",
       " \"During both the primary process and the general election, Obama's campaign set numerous fundraising records, particularly in the quantity of small donations.[114] On June 19, 2008, Obama became the first major-party presidential candidate to turn down public financing in the general election since the system was created in 1976.[115]\",\n",
       " \"John McCain was nominated as the Republican candidate, and the two engaged in three presidential debates in September and October 2008.[116] On November 4, Obama won the presidency with 365 electoral votes to 173 received by McCain.[117] Obama won 52.9\\xa0percent of the popular vote to McCain's 45.7\\xa0percent.[118] He became the first African American to be elected president.[119] Obama delivered his victory speech before hundreds of thousands of supporters in Chicago's Grant Park.[120]\",\n",
       " 'On April 4, 2011, Obama announced his reelection campaign for 2012 in a video titled \"It Begins with Us\" that he posted on his website and filed election papers with the Federal Election Commission.[121][122][123] As the incumbent president he ran virtually unopposed in the Democratic Party presidential primaries,[124] and on April 3, 2012, Obama had secured the 2778 convention delegates needed to win the Democratic nomination.[125]',\n",
       " 'At the Democratic National Convention in Charlotte, North Carolina, Obama and Joe Biden were formally nominated by former President Bill Clinton, as the Democratic Party candidates for president and vice president in the general election. Their main opponents were Republicans Mitt Romney, the former governor of Massachusetts, and Representative Paul Ryan of Wisconsin.[126]',\n",
       " 'On November 6, 2012, Obama won 332 electoral votes, exceeding the 270 required for him to be reelected as president.[127][128][129] With 51.1\\xa0percent of the popular vote,[130] Obama became the first Democratic president since Franklin D. Roosevelt to twice win the majority of the popular vote.[131][132] President Obama addressed supporters and volunteers at Chicago\\'s McCormick Place after his reelection and said: \"Tonight you voted for action, not politics as usual. You elected us to focus on your jobs, not ours. And in the coming weeks and months, I am looking forward to reaching out and working with leaders of both parties.\"[133][134]',\n",
       " \"The inauguration of Barack Obama as the 44th President took place on January 20, 2009. In his first few days in office, Obama issued executive orders and presidential memoranda directing the U.S. military to develop plans to withdraw troops from Iraq.[135] He ordered the closing of the Guantanamo Bay detention camp,[136] but Congress prevented the closure by refusing to appropriate the required funds[137][138][139] and preventing moving any Guantanamo detainee into the U.S. or to other countries.[140] Obama reduced the secrecy given to presidential records.[141] He also revoked President George W. Bush's restoration of President Ronald Reagan's Mexico City Policy prohibiting federal aid to international family planning organizations that perform or provide counseling about abortion.[142]\",\n",
       " 'The first bill signed into law by Obama was the Lilly Ledbetter Fair Pay Act of 2009, relaxing the statute of limitations for equal-pay lawsuits.[143] Five days later, he signed the reauthorization of the State Children\\'s Health Insurance Program (SCHIP) to cover an additional 4\\xa0million uninsured children.[144] In March 2009, Obama reversed a Bush-era policy which had limited funding of embryonic stem cell research and pledged to develop \"strict guidelines\" on the research.[145]',\n",
       " 'Obama appointed two women to serve on the Supreme Court in the first two years of his Presidency. Sonia Sotomayor, nominated by Obama on May 26, 2009, to replace retiring Associate Justice David Souter, was confirmed on August 6, 2009,[146] becoming the first Hispanic Supreme Court Justice.[147] Elena Kagan, nominated by Obama on May 10, 2010, to replace retiring Associate Justice John Paul Stevens, was confirmed on August 5, 2010, bringing the number of women sitting simultaneously on the Court to three, for the first time in American history.[148]',\n",
       " 'On March 30, 2010, Obama signed the Health Care and Education Reconciliation Act, a reconciliation bill which ends the process of the federal government giving subsidies to private banks to give out federally insured loans, increases the Pell Grant scholarship award, and makes changes to the Patient Protection and Affordable Care Act.[149][150]',\n",
       " 'In a major space policy speech in April 2010, Obama announced a planned change in direction at NASA, the U.S. space agency. He ended plans for a return of human spaceflight to the moon and development of the Ares I rocket, Ares V rocket and Constellation program, in favor of funding Earth science projects, a new rocket type, and research and development for an eventual manned mission to Mars, and ongoing missions to the International Space Station.[151]',\n",
       " 'President Obama\\'s 2011 State of the Union Address focused on themes of education and innovation, stressing the importance of innovation economics to make the United States more competitive globally. He spoke of a five-year freeze in domestic spending, eliminating tax breaks for oil companies and reversing tax cuts for the wealthiest Americans, banning congressional earmarks, and reducing healthcare costs. He promised that the United States would have one million electric vehicles on the road by 2015 and would be 80\\xa0percent reliant on \"clean\" electricity.[152][153]',\n",
       " \"On October 8, 2009, Obama signed the Matthew Shepard and James Byrd Jr. Hate Crimes Prevention Act, a measure that expands the 1969 United States federal hate-crime law to include crimes motivated by a victim's actual or perceived gender, sexual orientation, gender identity, or disability.[154][155]\",\n",
       " \"On December 22, 2010, Obama signed the Don't Ask, Don't Tell Repeal Act of 2010, fulfilling a key promise made in the 2008 presidential campaign[156][157] to end the Don't ask, don't tell policy of 1993 that had prevented gay and lesbian people from serving openly in the United States Armed Forces.[158]\",\n",
       " 'In 1996, as a candidate for the Illinois state senate, Obama had said that he favored legalizing same-sex marriage;[159] but by the time of his Senate run in 2004, he said that while he supported civil unions and domestic partnerships for same-sex partners, for strategic reasons he opposed same-sex marriages.[160] On May 9, 2012, shortly after the official launch of his campaign for reelection as president, Obama said his views had evolved, and he publicly affirmed his personal support for the legalization of same-sex marriage, becoming the first sitting U.S. president to do so.[161][162]',\n",
       " 'During his second inaugural address on January 21, 2013,[134] Obama became the first president to call for full equality for gay Americans: \"Our journey is not complete until our gay brothers and sisters are treated like anyone else under the law – for if we are truly created equal, then surely the love we commit to one another must be equal as well.\" This was the first time that a president mentioned gay rights or the word \"gay\" in an inaugural address.[163][164] In 2013, the Obama administration filed briefs urging the Supreme Court to rule in favor of same-sex couples in the cases of Hollingsworth v. Perry (regarding same-sex marriage)[165] and United States v. Windsor (regarding the Defense of Marriage Act).[166] Then, following the Supreme Court\\'s 2015 decision in Obergefell v. Hodges (ruling same-sex marriage to be a fundamental right), Obama asserted that, \"This decision affirms what millions of Americans already believe in their hearts: When all Americans are treated as equal we are all more free.\"[167]',\n",
       " 'On March 11, 2009, Obama created the White House Council on Women and Girls, which forms part of the Office of Intergovernmental Affairs, having been established by Executive Order 13506 with a broad mandate to advise him on issues relating to the welfare of American women and girls.[168] The Council is currently chaired by Senior Advisor to the President Valerie Jarrett.[169] Obama also established the White House Task Force to Protect Students from Sexual Assault through an official United States government memorandum on January 22, 2014 with a broad mandate to advise him on issues relating to sexual assault on college and university campuses throughout the United States.[169][170][171] The current co-chairs of the Task Force are Vice President Joe Biden and Jarrett.[170] The Task Force has been a development out of the White House Council on Women and Girls and Office of the Vice President of the United States, and prior to that, the 1994 Violence Against Women Act that was first-drafted by Biden.[172]',\n",
       " 'On February 17, 2009, Obama signed the American Recovery and Reinvestment Act of 2009, a $787\\xa0billion economic stimulus package aimed at helping the economy recover from the deepening worldwide recession.[173] The act includes increased federal spending for health care, infrastructure, education, various tax breaks and incentives, and direct assistance to individuals.[174]',\n",
       " 'In March, Obama\\'s Treasury Secretary, Timothy Geithner, took further steps to manage the financial crisis, including introducing the Public-Private Investment Program for Legacy Assets, which contains provisions for buying up to two\\xa0trillion dollars in depreciated real estate assets.[175] Obama intervened in the troubled automotive industry[176] in March 2009, renewing loans for General Motors and Chrysler to continue operations while reorganizing. Over the following months the White House set terms for both firms\\' bankruptcies, including the sale of Chrysler to Italian automaker Fiat[177] and a reorganization of GM giving the U.S. government a temporary 60\\xa0percent equity stake in the company, with the Canadian government taking a 12\\xa0percent stake.[178] In June 2009, dissatisfied with the pace of economic stimulus, Obama called on his cabinet to accelerate the investment.[179] He signed into law the Car Allowance Rebate System, known colloquially as \"Cash for Clunkers\", that temporarily boosted the economy.[180][181][182]',\n",
       " \"Spending and loan guarantees from the Federal Reserve and the Treasury Department authorized by the Bush and Obama administrations totaled about $11.5\\xa0trillion, but only $3\\xa0trillion was spent by the end of November 2009.[183] Obama and the Congressional Budget Office predicted the 2010 budget deficit would be $1.5\\xa0trillion or 10.6\\xa0percent of the nation's gross domestic product (GDP) compared to the 2009 deficit of $1.4\\xa0trillion or 9.9\\xa0percent of GDP.[184][185] For 2011, the administration predicted the deficit will shrink to $1.34\\xa0trillion, and the 10-year deficit will increase to $8.53\\xa0trillion or 90\\xa0percent of GDP.[186] The most recent increase in the U.S. debt ceiling to $17.2\\xa0trillion took effect in February 2014.[187] On August 2, 2011, after a lengthy congressional debate over whether to raise the nation's debt limit, Obama signed the bipartisan Budget Control Act of 2011. The legislation enforces limits on discretionary spending until 2021, establishes a procedure to increase the debt limit, creates a Congressional Joint Select Committee on Deficit Reduction to propose further deficit reduction with a stated goal of achieving at least $1.5\\xa0trillion in budgetary savings over 10 years, and establishes automatic procedures for reducing spending by as much as $1.2\\xa0trillion if legislation originating with the new joint select committee does not achieve such savings.[188] By passing the legislation, Congress was able to prevent a U.S. government default on its obligations.[189]\",\n",
       " 'As it did throughout 2008, the unemployment rate rose in 2009, reaching a peak in October at 10.0\\xa0percent and averaging 10.0\\xa0percent in the fourth quarter. Following a decrease to 9.7\\xa0percent in the first quarter of 2010, the unemployment rate fell to 9.6\\xa0percent in the second quarter, where it remained for the rest of the year.[192] Between February and December 2010, employment rose by 0.8\\xa0percent, which was less than the average of 1.9\\xa0percent experienced during comparable periods in the past four employment recoveries.[193] By November 2012, the unemployment rate fell to 7.7\\xa0percent,[194] decreasing to 6.7\\xa0percent in the last month of 2013.[195] During 2014, the unemployment rate continued to decline, falling to 6.3\\xa0percent in the first quarter.[196] GDP growth returned in the third quarter of 2009, expanding at a rate of 1.6\\xa0percent, followed by a 5.0\\xa0percent increase in the fourth quarter.[197] Growth continued in 2010, posting an increase of 3.7\\xa0percent in the first quarter, with lesser gains throughout the rest of the year.[197] In July 2010, the Federal Reserve noted that economic activity continued to increase, but its pace had slowed, and chairman Ben Bernanke said the economic outlook was \"unusually uncertain\".[198] Overall, the economy expanded at a rate of 2.9\\xa0percent in 2010.[199]',\n",
       " 'The Congressional Budget Office and a broad range of economists credit Obama\\'s stimulus plan for economic growth.[200][201] The CBO released a report stating that the stimulus bill increased employment by 1–2.1\\xa0million,[201][202][203][204] while conceding that \"It is impossible to determine how many of the reported jobs would have existed in the absence of the stimulus package.\"[200] Although an April 2010 survey of members of the National Association for Business Economics showed an increase in job creation (over a similar January survey) for the first time in two years, 73\\xa0percent of 68 respondents believed that the stimulus bill has had no impact on employment.[205] The economy of the United States has grown faster than the other original NATO members by a wider margin under President Obama than it has anytime since the end of World War II.[206] The OECD credits the much faster growth in the United States to the stimulus in the United States and the austerity measures in the European Union.[207]',\n",
       " 'Within a month of the 2010 midterm elections, Obama announced a compromise deal with the Congressional Republican leadership that included a temporary, two-year extension of the 2001 and 2003 income tax rates, a one-year payroll tax reduction, continuation of unemployment benefits, and a new rate and exemption amount for estate taxes.[208] The compromise overcame opposition from some in both parties, and the resulting $858\\xa0billion Tax Relief, Unemployment Insurance Reauthorization, and Job Creation Act of 2010 passed with bipartisan majorities in both houses of Congress before Obama signed it on December 17, 2010.[209]',\n",
       " 'In December 2013, Obama declared that growing income inequality is a \"defining challenge of our time\" and called on Congress to bolster the safety net and raise wages. This came on the heels of the nationwide strikes of fast-food workers and Pope Francis\\' criticism of inequality and trickle-down economics.[210]',\n",
       " 'On September 30, 2009, the Obama administration proposed new regulations on power plants, factories, and oil refineries in an attempt to limit greenhouse gas emissions and to curb global warming.[211][212]',\n",
       " 'On April 20, 2010, an explosion destroyed an offshore drilling rig at the Macondo Prospect in the Gulf of Mexico, causing a major sustained oil leak. Obama visited the Gulf, announced a federal investigation, and formed a bipartisan commission to recommend new safety standards, after a review by Secretary of the Interior Ken Salazar and concurrent Congressional hearings. He then announced a six-month moratorium on new deepwater drilling permits and leases, pending regulatory review.[213] As multiple efforts by BP failed, some in the media and public expressed confusion and criticism over various aspects of the incident, and stated a desire for more involvement by Obama and the federal government.[214]',\n",
       " 'In July 2013, Obama expressed reservations and stated he \"would reject the Keystone XL pipeline if it increased carbon pollution\" or \"greenhouse emissions\".[215][216] Obama\\'s advisers called for a halt to petroleum exploration in the Arctic in January 2013.[217] On February 24, 2015, Obama vetoed a bill that would authorize the pipeline.[218] It was the third veto of Obama\\'s presidency and his first major veto.[219]',\n",
       " 'Obama called for Congress to pass legislation reforming health care in the United States, a key campaign promise and a top legislative goal.[220] He proposed an expansion of health insurance coverage to cover the uninsured, to cap premium increases, and to allow people to retain their coverage when they leave or change jobs. His proposal was to spend $900\\xa0billion over 10 years and include a government insurance plan, also known as the public option, to compete with the corporate insurance sector as a main component to lowering costs and improving quality of health care. It would also make it illegal for insurers to drop sick people or deny them coverage for pre-existing conditions, and require every American to carry health coverage. The plan also includes medical spending cuts and taxes on insurance companies that offer expensive plans.[221][222]',\n",
       " 'On July 14, 2009, House Democratic leaders introduced a 1,017-page plan for overhauling the U.S. health care system, which Obama wanted Congress to approve by the end of 2009.[220] After much public debate during the Congressional summer recess of 2009, Obama delivered a speech to a joint session of Congress on September 9 where he addressed concerns over the proposals.[223] In March 2009, Obama lifted a ban on using federal funds for stem cell research.[224]',\n",
       " 'On November 7, 2009, a health care bill featuring the public option was passed in the House.[226][227] On December 24, 2009, the Senate passed its own bill—without a public option—on a party-line vote of 60–39.[228] On March 21, 2010, the Patient Protection and Affordable Care Act (ACA) passed by the Senate in December was passed in the House by a vote of 219 to 212.[229] Obama signed the bill into law on March 23, 2010.[230]',\n",
       " 'The ACA includes health-related provisions to take effect over four years, including expanding Medicaid eligibility for people making up to 133\\xa0percent of the federal poverty level (FPL) starting in 2014,[231] subsidizing insurance premiums for people making up to 400\\xa0percent of the FPL ($88,000 for family of four in 2010) so their maximum \"out-of-pocket\" payment for annual premiums will be from 2 to 9.5\\xa0percent of income,[232][233] providing incentives for businesses to provide health care benefits, prohibiting denial of coverage and denial of claims based on pre-existing conditions, establishing health insurance exchanges, prohibiting annual coverage caps, and support for medical research. According to White House and Congressional Budget Office figures, the maximum share of income that enrollees would have to pay would vary depending on their income relative to the federal poverty level.[232][234]',\n",
       " 'The costs of these provisions are offset by taxes, fees, and cost-saving measures, such as new Medicare taxes for those in high-income brackets, taxes on indoor tanning, cuts to the Medicare Advantage program in favor of traditional Medicare, and fees on medical devices and pharmaceutical companies;[235] there is also a tax penalty for those who do not obtain health insurance, unless they are exempt due to low income or other reasons.[236] In March 2010, the Congressional Budget Office estimated that the net effect of both laws will be a reduction in the federal deficit by $143\\xa0billion over the first decade.[237]',\n",
       " 'The law faced several legal challenges, primarily based on the argument that an individual mandate requiring Americans to buy health insurance was unconstitutional. On June 28, 2012, the Supreme Court ruled by a 5–4 vote in National Federation of Independent Business v. Sebelius that the mandate was constitutional under the U.S. Congress\\'s taxing authority.[238] In Burwell v. Hobby Lobby the Court ruled that \"closely-held\" for-profit corporations could be exempt on religious grounds under the Religious Freedom Restoration Act from regulations adopted under the ACA that would have required them to pay for insurance that covered certain contraceptives. In June 2015, the Court ruled 6–3 in King v. Burwell that subsidies to help individuals and families purchase health insurance were authorized for those doing so on both the federal exchange and state exchanges, not only those purchasing plans \"established by the State,\" as the statute reads.[239]',\n",
       " 'Prior to June 2014, Obama offered substantial support for a broadly based \"All of the above\" approach to domestic energy policy which Obama has maintained since his first term and which he last confirmed at his State of the Union speech in January 2014 to a mixed reception by both parties. In June 2014, Obama made indications that his administration would consider a shift towards an energy policy more closely tuned to the manufacturing industry and its impact on the domestic economy.[240] Obama\\'s approach of selectively combining regulation and incentive to various issues in the domestic energy policy such as coal mining and oil fracking has received mixed commentary for not being as responsive to the needs of the domestic manufacturing sector as needed, following claims that the domestic manufacturing sector utilizes as much as a third of nation\\'s available energy resources.[241][242]',\n",
       " 'On January 16, 2013, one month after the Sandy Hook Elementary School shooting, President Obama signed 23 executive orders and outlined a series of sweeping proposals regarding gun control.[243] He urged Congress to reintroduce an expired ban on military-style assault weapons, such as those used in several recent mass shootings, impose limits on ammunition magazines to 10 rounds, introduce background checks on all gun sales, pass a ban on possession and sale of armor-piercing bullets, introduce harsher penalties for gun-traffickers, especially unlicensed dealers who buy arms for criminals and approving the appointment of the head of the federal Bureau of Alcohol, Tobacco, Firearms and Explosives for the first time since 2006.[244] On January 5, 2016, Obama announced new executive actions extending background check requirements to more gun sellers.[245] In a 2016 editorial in the New York Times, Obama compared the struggle for what he termed \"common-sense gun reform\" to women\\'s suffrage and other civil rights movements in American history.[246]',\n",
       " 'Obama called the November 2, 2010 election, where the Democratic Party lost 63 seats in, and control of, the House of Representatives,[247] \"humbling\" and a \"shellacking\".[248] He said that the results came because not enough Americans had felt the effects of the economic recovery.[249]',\n",
       " 'On November 10, 2014, President Obama recommended the Federal Communications Commission reclassify broadband Internet service as a telecommunications service in order to preserve net neutrality.[250][251] On February 12, 2013, President Obama signed Executive Order 13636, \"Improving Critical Infrastructure Cybersecurity\".[252]',\n",
       " 'In February and March 2009, Vice President Joe Biden and Secretary of State Hillary Rodham Clinton made separate overseas trips to announce a \"new era\" in U.S. foreign relations with Russia and Europe, using the terms \"break\" and \"reset\" to signal major changes from the policies of the preceding administration.[253] Obama attempted to reach out to Arab leaders by granting his first interview to an Arab cable TV network, Al Arabiya.[254]',\n",
       " 'On March 19, Obama continued his outreach to the Muslim world, releasing a New Year\\'s video message to the people and government of Iran.[255][256] In April, Obama gave a speech in Ankara, Turkey, which was well received by many Arab governments.[257] On June 4, 2009, Obama delivered a speech at Cairo University in Egypt calling for \"A New Beginning\" in relations between the Islamic world and the United States and promoting Middle East peace.[258]',\n",
       " 'On June 26, 2009, in response to the Iranian government\\'s actions towards protesters following Iran\\'s 2009 presidential election, Obama said: \"The violence perpetrated against them is outrageous. We see it and we condemn it.\"[259] On July 7, while in Moscow, he responded to a Vice President Biden comment on a possible Israeli military strike on Iran by saying: \"We have said directly to the Israelis that it is important to try and resolve this in an international setting in a way that does not create major conflict in the Middle East.\"[260]',\n",
       " 'On September 24, 2009, Obama became the first sitting U.S. president to preside over a meeting of the United Nations Security Council.[261]',\n",
       " 'In March 2010, Obama took a public stance against plans by the government of Israeli Prime Minister Benjamin Netanyahu to continue building Jewish housing projects in predominantly Arab neighborhoods of East Jerusalem.[262][263] During the same month, an agreement was reached with the administration of Russian President Dmitry Medvedev to replace the 1991 Strategic Arms Reduction Treaty with a new pact reducing the number of long-range nuclear weapons in the arsenals of both countries by about one-third.[264] Obama and Medvedev signed the New START treaty in April 2010, and the U.S. Senate ratified it in December 2010.[265]',\n",
       " \"In December 2011, Obama instructed agencies to consider LGBT rights when issuing financial aid to foreign countries.[266] He criticized Russia's law discriminating against gays in August 2013,[267] stopping short of advocating a boycott of the 2014 Winter Olympics held in Sochi, Russia.[268]\",\n",
       " 'In December 2014, Obama announced that he intended to normalize relationships between Cuba and the United States.[269] The countries\\' respective \"interests sections\" in one another\\'s capitals were upgraded to embassies on July 20, 2015.',\n",
       " 'On February 27, 2009, Obama announced that combat operations in Iraq would end within 18 months. His remarks were made to a group of Marines preparing for deployment to Afghanistan. Obama said, \"Let me say this as plainly as I can: by August 31, 2010, our combat mission in Iraq will end.\"[270] The Obama administration scheduled the withdrawal of combat troops to be completed by August 2010, decreasing troop\\'s levels from 142,000 while leaving a transitional force of about 50,000 in Iraq until the end of 2011. On August 19, 2010, the last U.S. combat brigade exited Iraq. Remaining troops transitioned from combat operations to counter-terrorism and the training, equipping, and advising of Iraqi security forces.[271][272] On August 31, 2010, Obama announced that the United States combat mission in Iraq was over.[273] On October 21, 2011 President Obama announced that all U.S. troops would leave Iraq in time to be \"home for the holidays\".[274]',\n",
       " 'In June 2014, following the capture of Mosul by the Islamic State of Iraq and the Levant (ISIL), Obama sent 275 troops to provide support and security for U.S. personnel and the U.S. Embassy in Baghdad. ISIL continued to gain ground and to commit widespread massacres and ethnic cleansing.[275][276]',\n",
       " 'In August 2014, during the Sinjar massacre, Obama ordered a campaign of U.S. airstrikes against ISIL.[277]',\n",
       " 'By the end of 2014, 3,100 American ground troops were committed to the conflict[278] and 16,000 sorties were flown over the battlefield, primarily by U.S. Air Force and Navy pilots.[279]',\n",
       " 'In the Spring of 2015, with the addition of the \"Panther Brigade\" of the 82nd Airborne Division the number of U.S. ground troops in Iraq surged to 4,400,[280] and by July American-led coalition air forces counted 44,000 sorties over the battlefield.[281]',\n",
       " 'Early in his presidency, Obama moved to bolster U.S. troop strength in Afghanistan.[282] He announced an increase to U.S. troop levels of 17,000 in February 2009 to \"stabilize a deteriorating situation in Afghanistan\", an area he said had not received the \"strategic attention, direction and resources it urgently requires\".[283] He replaced the military commander in Afghanistan, General David D. McKiernan, with former Special Forces commander Lt. Gen. Stanley A. McChrystal in May 2009, indicating that McChrystal\\'s Special Forces experience would facilitate the use of counterinsurgency tactics in the war.[284] On December 1, 2009, Obama announced the deployment of an additional 30,000 military personnel to Afghanistan and proposed to begin troop withdrawals 18 months from that date;[285] this took place in July 2011. David Petraeus replaced McChrystal in June 2010, after McChrystal\\'s staff criticized White House personnel in a magazine article.[286] In February 2013, Obama said the U.S. military would reduce the troop level in Afghanistan from 68,000 to 34,000 U.S. troops by February 2014.[287]',\n",
       " 'In October 2015, in light of the deteriorating security situation, the White House announced a plan to keep U.S. Forces in Afghanistan indefinitely.[288]',\n",
       " 'In 2011, the United States vetoed a Security Council resolution condemning Israeli settlements, with the United States being the only nation to do so.[289] Obama supports the two-state solution to the Arab–Israeli conflict based on the 1967 borders with land swaps.[290]',\n",
       " 'In June 2012, Obama said that the bond between the United States and Israel is \"unbreakable.\"[291] During the initial years of the Obama administration, the U.S. increased military cooperation with Israel, including increased military aid, re-establishment of the U.S.-Israeli Joint Political Military Group and the Defense Policy Advisory Group, and an increase in visits among high-level military officials of both countries.[292] The Obama administration asked Congress to allocate money toward funding the Iron Dome program in response to the waves of Palestinian rocket attacks on Israel.[293]',\n",
       " 'In 2013, Jeffrey Goldberg reported that, in Obama\\'s view, \"with each new settlement announcement, Netanyahu is moving his country down a path toward near-total isolation.\"[294]',\n",
       " 'In 2014, President Obama likened the Zionist movement to the Civil Rights Movement in the United States. He said that both movements seek to bring justice and equal rights to historically persecuted peoples. He explained, \"To me, being pro-Israel and pro-Jewish is part and parcel with the values that I\\'ve been fighting for since I was politically conscious and started getting involved in politics.\"[295]',\n",
       " 'In February 2011, protests in Libya began against long-time dictator Muammar Gaddafi as part of the Arab Spring. They soon turned violent. In March, as forces loyal to Gaddafi advanced on rebels across Libya, calls for a no-fly zone came from around the world, including Europe, the Arab League, and a resolution[296] passed unanimously by the U.S. Senate.[297] In response to the unanimous passage of United Nations Security Council Resolution 1973 on March 17, Gaddafi—who had previously vowed to \"show no mercy\" to the rebels of Benghazi[298]—announced an immediate cessation of military activities,[299] yet reports came in that his forces continued shelling Misrata. The next day, on Obama\\'s orders, the U.S. military took part in air strikes to destroy the Libyan government\\'s air defense capabilities to protect civilians and enforce a no-fly-zone,[300] including the use of Tomahawk missiles, B-2 Spirits, and fighter jets.[301][302][303] Six days later, on March 25, by unanimous vote of all of its 28 members, NATO took over leadership of the effort, dubbed Operation Unified Protector.[304] Some Representatives[305] questioned whether Obama had the constitutional authority to order military action in addition to questioning its cost, structure and aftermath.[306][307]',\n",
       " 'On October 18, 2011, during the early stages of the Syrian Civil War, Obama said that \"Assad must go\", saying that this was for the sake of the Syrian people.[308] He reaffirmed that belief on November 19, 2015.[309] To that end, Obama authorized an effort to train anti-Assad rebels.[310] The program achieved minimal results, and the Obama Administration abandoned it in 2015.[311][312] In the wake of a chemical weapons attack in Syria in 2013 widely blamed on the Assad regime, Obama insisted that Assad must give up his chemical weapons. This led to an agreement which resulted in Assad giving up many such weapons, but attacks with chlorine gas continued.[313][314] In 2014, Obama authorized an air campaign aimed primarily at ISIL, but repeatedly promised that the U.S. would put \"no boots on the ground\" in Syria.[315][316]',\n",
       " 'Starting with information received in July 2010, intelligence developed by the CIA over the next several months determined what they believed to be the location of Osama bin Laden in a large compound in Abbottabad, Pakistan, a suburban area 35 miles from Islamabad.[317] CIA head Leon Panetta reported this intelligence to President Obama in March 2011.[317] Meeting with his national security advisers over the course of the next six weeks, Obama rejected a plan to bomb the compound, and authorized a \"surgical raid\" to be conducted by United States Navy SEALs.[317] The operation took place on May 1, 2011, resulting in the death of bin Laden and the seizure of papers, computer drives and disks from the compound.[318][319] DNA testing identified bin Laden\\'s body,[320] which was buried at sea several hours later.[321] Within minutes of the President\\'s announcement from Washington, DC, late in the evening on May 1, there were spontaneous celebrations around the country as crowds gathered outside the White House, and at New York City\\'s Ground Zero and Times Square.[318][322] Reaction to the announcement was positive across party lines, including from former presidents Bill Clinton and George W. Bush,[323] and from many countries around the world.[324]',\n",
       " \"In 2013, Obama's administration opened negotiations with Iran to prevent it from acquiring nuclear weapons. Negotiations took two years with numerous delays, with a deal being announced July 14, 2015. The deal, titled Joint Comprehensive Plan of Action, saw the removal of sanctions in exchange for measures that would prevent Iran from producing nuclear weapons. While Obama hailed the agreement as being a step towards a more hopeful world, the deal drew strong criticism from Republican and conservative quarters, and from Israeli prime minister Benjamin Netanyahu.[325][326][327]\",\n",
       " 'Since the spring of 2013, secret meetings were conducted between the United States and Cuba in the neutral locations of Canada and Vatican City.[328] The Vatican first became involved in 2013 when Pope Francis advised the U.S. and Cuba to exchange prisoners as a gesture of goodwill.[329] On December 10, 2013, Cuban President Raúl Castro, in a significant public moment, greeted and shook hands with Obama at the Nelson Mandela memorial service in Johannesburg.[330]',\n",
       " 'In December 2014, after the secret meetings, it was announced that Obama, with Pope Francis as an intermediary, had negotiated a restoration of relations with Cuba, after nearly sixty years of détente.[331] Popularly dubbed the Cuban Thaw, The New Republic deemed the Cuban Thaw to be \"Obama\\'s finest foreign policy achievement.\"[332] On July 1, 2015, President Barack Obama announced that formal diplomatic relations between Cuba and the United States would resume, and embassies would be opened in Washington and Havana.[333] The countries\\' respective \"interests sections\" in one another\\'s capitals were upgraded to embassies on July 20 and August 13, 2015, respectively.[334]',\n",
       " 'Obama has visited Havana, Cuba for two days in March 2016, becoming the first sitting U.S. President to arrive since Calvin Coolidge in 1928.[335]',\n",
       " 'Obama spoke in front of the African Union in Addis Ababa, Ethiopia, on July 29, 2015, the first sitting U.S. president to do so. He gave a speech encouraging the world to increase economic ties via investments and trade with the continent, and lauded the progresses made in education, infrastructure, and economy. He also criticized the lack of democracy and leaders who refuse to step aside, discrimination against minorities (LGBT people, religious groups and ethnicities), and corruption. He suggested an intensified democratization and free trade, to significantly improve the quality of life for Africans.[336][337] During his July 2015 trip, Obama also was the first U.S. president ever to visit Kenya, which is the homeland of his father.[338]',\n",
       " 'On May 27, 2016, the 71st anniversary of the atomic bombing of Hiroshima by America, Obama became the first sitting American president to visit Hiroshima, Japan. Accompanied by Japanese Prime Minister Shinzo Abe, Obama paid tribute to the victims of the bombing at the Hiroshima Peace Memorial Museum.[339]',\n",
       " 'Obama\\'s family history, upbringing, and Ivy League education differ markedly from those of African-American politicians who launched their careers in the 1960s through participation in the civil rights movement.[340] Expressing puzzlement over questions about whether he is \"black enough\", Obama told an August 2007 meeting of the National Association of Black Journalists that \"we\\'re still locked in this notion that if you appeal to white folks then there must be something wrong.\"[341] Obama acknowledged his youthful image in an October 2007 campaign speech, saying: \"I wouldn\\'t be here if, time and again, the torch had not been passed to a new generation.\"[342]',\n",
       " \"Obama is frequently referred to as an exceptional orator.[343] During his pre-inauguration transition period and continuing into his presidency, Obama has delivered a series of weekly Internet video addresses.[344] Former presidential campaign surrogate and Georgetown professor, Michael Eric Dyson, is both critical and sympathetic of President Obama's leadership in race relations indicating that speeches and action on racial disparity and justice have been somewhat reactive and reluctant when in the later part of his second term, racial violence demanded immediate presidential action and conversation.[345]\",\n",
       " \"According to the Gallup Organization, Obama began his presidency with a 68\\xa0percent approval rating[347] before gradually declining for the rest of the year, and eventually bottoming out at 41\\xa0percent in August 2010,[348] a trend similar to Ronald Reagan's and Bill Clinton's first years in office.[349] He experienced a small poll bounce shortly after the death of Osama bin Laden on May 2, 2011. This bounce lasted until around June 2011, when his approval numbers dropped back to where they were previously.[350][351] His approval ratings rebounded around the same time as his reelection in 2012, with polls showing an average job approval of 52\\xa0percent shortly after his second inauguration.[352] Despite him dropping to 39\\xa0percent in his approval ratings in late-2013 due to the ACA roll-out, he has climbed to 50\\xa0percent in late January 2015 according to Gallup.[353] Polls show strong support for Obama in other countries,[354] and before being elected President he met with prominent foreign figures including former British Prime Minister Tony Blair,[355] Italy's Democratic Party leader and Mayor of Rome Walter Veltroni,[356] and French President Nicolas Sarkozy.[357]\",\n",
       " 'In a February 2009 poll conducted in Western Europe and the U.S. by Harris Interactive for France 24 and the International Herald Tribune, Obama was rated as the most respected world leader, as well as the most powerful.[358] In a similar poll conducted by Harris in May 2009, Obama was rated as the most popular world leader, as well as the one figure most people would pin their hopes on for pulling the world out of the economic downturn.[359][360]',\n",
       " 'Obama won Best Spoken Word Album Grammy Awards for abridged audiobook versions of Dreams from My Father in February 2006 and for The Audacity of Hope in February 2008.[361] His concession speech after the New Hampshire primary was set to music by independent artists as the music video \"Yes We Can\", which was viewed 10\\xa0million times on YouTube in its first month[362] and received a Daytime Emmy Award.[363] In December 2008 and in 2012, Time magazine named Obama as its Person of the Year.[364] The 2008 awarding was for his historic candidacy and election, which Time described as \"the steady march of seemingly impossible accomplishments\".[365] On May 25, 2011, Obama became the first President of the United States to address both houses of the UK Parliament in Westminster Hall, London. This was only the 5th occurrence since the start of the 20th century, of a head of state being extended this invitation, following Charles de Gaulle in 1960, Nelson Mandela in 1996, Queen Elizabeth II in 2002 and Pope Benedict XVI in 2010.[366][367]',\n",
       " 'On October 9, 2009, the Norwegian Nobel Committee announced that Obama had won the 2009 Nobel Peace Prize \"for his extraordinary efforts to strengthen international diplomacy and cooperation between peoples\".[368] Obama accepted this award in Oslo, Norway on December 10, 2009, with \"deep gratitude and great humility.\"[369] The award drew a mixture of praise and criticism from world leaders and media figures.[370][371][372][373][374][375][376] Obama\\'s peace prize was called a \"stunning surprise\" by The New York Times.[377] Obama is the fourth U.S. president to be awarded the Nobel Peace Prize and the third to become a Nobel laureate while in office.[378] Obama\\'s Nobel Prize has been viewed skeptically in subsequent years, especially after the director of the Nobel Institute, Geir Lundestad, said Obama\\'s Peace Prize did not have the desired effect.[379]',\n",
       " 'In a 2006 interview, Obama highlighted the diversity of his extended family: \"It\\'s like a little mini-United Nations\", he said. \"I\\'ve got relatives who look like Bernie Mac, and I\\'ve got relatives who look like Margaret Thatcher.\"[380] Obama has a half-sister with whom he was raised (Maya Soetoro-Ng, the daughter of his mother and her Indonesian second husband) and seven half-siblings from his Kenyan father\\'s family—six of them living.[381] Obama\\'s mother was survived by her Kansas-born mother, Madelyn Dunham,[382] until her death on November 2, 2008,[383] two days before his election to the Presidency. Obama also has roots in Ireland; he met with his Irish cousins in Moneygall in May 2011.[384] In Dreams from My Father, Obama ties his mother\\'s family history to possible Native American ancestors and distant relatives of Jefferson Davis, President of the Confederate States of America during the American Civil War.[385]',\n",
       " \"Besides his native English, Obama speaks some basic Indonesian, having learned the language during his four childhood years in Jakarta.[386][387] He plays basketball, a sport he participated in as a member of his high school's varsity team;[388] he is left-handed.[389]\",\n",
       " 'Obama is a supporter of the Chicago White Sox, and he threw out the first pitch at the 2005 ALCS when he was still a senator.[390] In 2009, he threw out the ceremonial first pitch at the All-Star Game while wearing a White Sox jacket.[391] He is also primarily a Chicago Bears football fan in the NFL, but in his childhood and adolescence was a fan of the Pittsburgh Steelers, and rooted for them ahead of their victory in Super Bowl XLIII 12 days after he took office as President.[392] In 2011, Obama invited the 1985 Chicago Bears to the White House; the team had not visited the White House after their Super Bowl win in 1986 due to the Space Shuttle Challenger disaster.[393]',\n",
       " 'In June 1989, Obama met Michelle Robinson when he was employed as a summer associate at the Chicago law firm of Sidley Austin.[394] Assigned for three months as Obama\\'s adviser at the firm, Robinson joined him at several group social functions, but declined his initial requests to date.[395] They began dating later that summer, became engaged in 1991, and were married on October 3, 1992.[396] The couple\\'s first daughter, Malia Ann, was born on July 4, 1998,[397] followed by a second daughter, Natasha (\"Sasha\"), on June 10, 2001.[398] The Obama daughters attended the private University of Chicago Laboratory Schools. When they moved to Washington, D.C., in January 2009, the girls started at the private Sidwell Friends School.[399] The Obamas have two Portuguese Water Dogs, the first, a male named Bo, a gift from Senator Ted Kennedy.[400] In August 2013, Bo was joined by Sunny, a female.[401]',\n",
       " \"Applying the proceeds of a book deal, the family moved in 2005 from a Hyde Park, Chicago condominium to a $1.6\\xa0million house in neighboring Kenwood, Chicago.[402] The purchase of an adjacent lot—and sale of part of it to Obama by the wife of developer, campaign donor and friend Tony Rezko—attracted media attention because of Rezko's subsequent indictment and conviction on political corruption charges that were unrelated to Obama.[403]\",\n",
       " \"In December 2007, Money estimated the Obama family's net worth at $1.3\\xa0million.[404] Their 2009 tax return showed a household income of $5.5\\xa0million—up from about $4.2\\xa0million in 2007 and $1.6\\xa0million in 2005—mostly from sales of his books.[405][406] On his 2010 income of $1.7\\xa0million, he gave 14\\xa0percent to non-profit organizations, including $131,000 to Fisher House Foundation, a charity assisting wounded veterans' families, allowing them to reside near where the veteran is receiving medical treatments.[407][408] As per his 2012 financial disclosure, Obama may be worth as much as $10\\xa0million.[409]\",\n",
       " 'Obama tried to quit smoking several times, sometimes using nicotine replacement therapy, and, in early 2010, Michelle Obama said that he had successfully quit smoking.[410][411]',\n",
       " 'Obama is a Protestant Christian whose religious views developed in his adult life.[412] He wrote in The Audacity of Hope that he \"was not raised in a religious household\". He described his mother, raised by non-religious parents, as being detached from religion, yet \"in many ways the most spiritually awakened person that I have ever known.\" He described his father as a \"confirmed atheist\" by the time his parents met, and his stepfather as \"a man who saw religion as not particularly useful.\" Obama explained how, through working with black churches as a community organizer while in his twenties, he came to understand \"the power of the African-American religious tradition to spur social change.\"[413]',\n",
       " 'In January 2008, Obama told Christianity Today: \"I am a Christian, and I am a devout Christian. I believe in the redemptive death and resurrection of Jesus Christ. I believe that faith gives me a path to be cleansed of sin and have eternal life.\"[414] On September 27, 2010, Obama released a statement commenting on his religious views saying \"I\\'m a Christian by choice. My family didn\\'t – frankly, they weren\\'t folks who went to church every week. And my mother was one of the most spiritual people I knew, but she didn\\'t raise me in the church. So I came to my Christian faith later in life, and it was because the precepts of Jesus Christ spoke to me in terms of the kind of life that I would want to lead – being my brothers\\' and sisters\\' keeper, treating others as they would treat me.\"[415][416]',\n",
       " \"Obama met Trinity United Church of Christ pastor Rev. Jeremiah Wright in October 1987, and became a member of Trinity in 1992.[417] He resigned from Trinity in May 2008 during his first presidential campaign after some of Wright's statements were criticized.[418] The Obama family has attended several Protestant churches since moving to Washington, D.C. in 2009, including Shiloh Baptist Church and St. John's Episcopal Church. After a prolonged effort to find a church to attend regularly in Washington, Obama announced in June 2009 that his primary place of worship would be the Evergreen Chapel at Camp David.[419]\",\n",
       " 'Official',\n",
       " 'Other']"
      ]
     },
     "execution_count": 3,
     "metadata": {},
     "output_type": "execute_result"
    }
   ],
   "source": [
    "url = \"https://wikipedia.org/wiki/Barack_Obama\"\n",
    "response = requests.get(url)\n",
    "html = response.text\n",
    "soup = BeautifulSoup(html, \"html.parser\")\n",
    "paragraph_text = [p.text for p in soup.find_all(\"p\") if p.text]\n",
    "paragraph_text"
   ]
  },
  {
   "cell_type": "markdown",
   "metadata": {
    "slideshow": {
     "slide_type": "subslide"
    }
   },
   "source": [
    "# Run Odin IE rules on a couple of paragraphs  \n",
    "\n",
    "- ###### https://gist.github.com/myedibleenso/0c6a5c99070b506992c6343375cd7ebd"
   ]
  },
  {
   "cell_type": "code",
   "execution_count": 4,
   "metadata": {
    "collapsed": false,
    "slideshow": {
     "slide_type": "fragment"
    }
   },
   "outputs": [],
   "source": [
    "rules_url = \"https://gist.githubusercontent.com/myedibleenso/0c6a5c99070b506992c6343375cd7ebd/raw/8e08411078a6ddcc5bfb776ff9ac8555ad10db13/triples.yaml\"\n",
    "# pick a couple of paragraphs\n",
    "sample_text = \"\\n\".join(paragraph_text[4:6])\n",
    "mentions = API.odin.extract_from_text(sample_text, rules_url)"
   ]
  },
  {
   "cell_type": "markdown",
   "metadata": {
    "slideshow": {
     "slide_type": "subslide"
    }
   },
   "source": [
    "# Find our triples"
   ]
  },
  {
   "cell_type": "code",
   "execution_count": 5,
   "metadata": {
    "collapsed": false,
    "slideshow": {
     "slide_type": "fragment"
    }
   },
   "outputs": [],
   "source": [
    "triples = [m for m in mentions if m.label == \"Triple\"]"
   ]
  },
  {
   "cell_type": "markdown",
   "metadata": {
    "slideshow": {
     "slide_type": "subslide"
    }
   },
   "source": [
    "### Get the distinct triples by the text span of each argument"
   ]
  },
  {
   "cell_type": "code",
   "execution_count": 6,
   "metadata": {
    "collapsed": false,
    "slideshow": {
     "slide_type": "subslide"
    }
   },
   "outputs": [
    {
     "name": "stdout",
     "output_type": "stream",
     "text": [
      "triples of the form (SUBJECT, PREDICATE, OBJECT)\n",
      "\n",
      "\t('He', 'began', 'campaign')\n",
      "\t('He', 'began', 'presidential campaign')\n",
      "\t('He', 'defeated', 'nominee John McCain')\n",
      "\t('He', 'defeated', 'John McCain')\n",
      "\t('He', 'defeated', 'Republican nominee John McCain')\n",
      "\t('He', 'hold', 'office')\n",
      "\t('Obama', 'is', 'graduate')\n",
      "\t('He', 'is', 'African American')\n",
      "\t('He', 'is', 'first African American')\n",
      "\t('Obama', 'received', 'attention')\n",
      "\t('Obama', 'received', 'keynote address')\n",
      "\t('Obama', 'received', 'national attention')\n",
      "\t('He', 'served', 'terms')\n",
      "\t('He', 'taught', 'constitutional law')\n",
      "\t('He', 'taught', 'law')\n",
      "\t('He', 'was', 'community organizer')\n",
      "\t('He', 'was inaugurated', 'president')\n",
      "\t('he', 'won', 'delegates')\n",
      "\t('he', 'won', 'sufficient delegates')\n"
     ]
    }
   ],
   "source": [
    "distinct_triples = {(t.arguments['subject'][0].text, t.trigger.text, t.arguments['object'][0].text) \n",
    "                    for t in triples}\n",
    "\n",
    "print(\"triples of the form (SUBJECT, PREDICATE, OBJECT)\\n\")\n",
    "# sort triples by predicate\n",
    "for t in sorted(distinct_triples, key=lambda triple: triple[1]):\n",
    "    print(\"\\t{}\".format(t))"
   ]
  },
  {
   "cell_type": "markdown",
   "metadata": {
    "slideshow": {
     "slide_type": "slide"
    }
   },
   "source": [
    "# More on Odin and rule-based IE\n",
    "\n",
    "- http://arxiv.org/abs/1509.07513\n",
    "\n",
    "- https://github.com/clulab/odin-examples\n",
    "\n",
    "- http://clulab.cs.arizona.edu/papers/lrec2016-odin.pdf"
   ]
  },
  {
   "cell_type": "markdown",
   "metadata": {
    "slideshow": {
     "slide_type": "subslide"
    }
   },
   "source": [
    "# More on syntactic dependencies\n",
    "\n",
    "- http://nlp.stanford.edu/software/dependencies_manual.pdf"
   ]
  }
 ],
 "metadata": {
  "celltoolbar": "Slideshow",
  "kernelspec": {
   "display_name": "Python 3",
   "language": "python",
   "name": "python3"
  },
  "language_info": {
   "codemirror_mode": {
    "name": "ipython",
    "version": 3
   },
   "file_extension": ".py",
   "mimetype": "text/x-python",
   "name": "python",
   "nbconvert_exporter": "python",
   "pygments_lexer": "ipython3",
   "version": "3.5.1"
  }
 },
 "nbformat": 4,
 "nbformat_minor": 0
}
