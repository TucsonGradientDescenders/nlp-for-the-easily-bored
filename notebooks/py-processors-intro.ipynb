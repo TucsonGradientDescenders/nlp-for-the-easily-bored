{
 "cells": [
  {
   "cell_type": "markdown",
   "metadata": {
    "slideshow": {
     "slide_type": "slide"
    }
   },
   "source": [
    "# The `py-processors` module"
   ]
  },
  {
   "cell_type": "markdown",
   "metadata": {
    "slideshow": {
     "slide_type": "subslide"
    }
   },
   "source": [
    "## Features\n",
    "\n",
    "- Sentence segmentation\n",
    "\n",
    "- Tokenization\n",
    "\n",
    "- **Named Entity Recognition**\n",
    "\n",
    "- **Syntactic dependency parsing**\n",
    "\n",
    "- PoS tagging\n",
    "\n",
    "- Lemmatization\n",
    "\n",
    "- Additional tools for the bio domain\n",
    "\n",
    "- sentiment analysis\n",
    "\n",
    "- Rule-based information extraction\n",
    "\n",
    "- $\\dots$"
   ]
  },
  {
   "cell_type": "markdown",
   "metadata": {
    "slideshow": {
     "slide_type": "subslide"
    }
   },
   "source": [
    "## More info:\n",
    "- http://py-processors.readthedocs.io/en/latest/\n",
    "- https://github.com/myedibleenso/py-processors\n",
    "- A bridge to [`processors`](https://github.com/clulab/processors) via [`processors-server`](https://github.com/myedbileenso/processors-server)"
   ]
  },
  {
   "cell_type": "markdown",
   "metadata": {
    "slideshow": {
     "slide_type": "slide"
    }
   },
   "source": [
    "# Why not `NLTK`?"
   ]
  },
  {
   "cell_type": "markdown",
   "metadata": {
    "slideshow": {
     "slide_type": "subslide"
    }
   },
   "source": [
    "`NLTK` is great educational tool, but it's missing a few things$\\dots$"
   ]
  },
  {
   "cell_type": "markdown",
   "metadata": {
    "slideshow": {
     "slide_type": "subslide"
    }
   },
   "source": [
    "- No **Named Entity Recognition**\n",
    "- No **syntactic dependency parsing**\n",
    "- No rule-based information extraction\n",
    "- No bio-specific stuff"
   ]
  },
  {
   "cell_type": "markdown",
   "metadata": {
    "slideshow": {
     "slide_type": "slide"
    }
   },
   "source": [
    "## Getting starting with a `py-processors`"
   ]
  },
  {
   "cell_type": "code",
   "execution_count": 3,
   "metadata": {
    "collapsed": false,
    "slideshow": {
     "slide_type": "subslide"
    }
   },
   "outputs": [
    {
     "name": "stdout",
     "output_type": "stream",
     "text": [
      "Using default\n",
      "Connection with server established!\n"
     ]
    }
   ],
   "source": [
    "from processors import *\n",
    "API = ProcessorsAPI(port=8886, keep_alive=True)\n",
    "# NOTE: if you use keep_alive=True, you'll want to run\n",
    "# API.stop_server() when you're done with everything"
   ]
  },
  {
   "cell_type": "code",
   "execution_count": 4,
   "metadata": {
    "collapsed": false,
    "slideshow": {
     "slide_type": "subslide"
    }
   },
   "outputs": [],
   "source": [
    "text = \"Hello.  My name is Inigo Montoya.  You killed my father.  Prepare to die.\"\n",
    "doc = API.fastnlp.annotate(text)"
   ]
  },
  {
   "cell_type": "markdown",
   "metadata": {
    "slideshow": {
     "slide_type": "slide"
    }
   },
   "source": [
    "# What's produced by `.annotate`?"
   ]
  },
  {
   "cell_type": "markdown",
   "metadata": {
    "slideshow": {
     "slide_type": "subslide"
    }
   },
   "source": [
    "<p align=\"center\">\n",
    "    <img src=\"figs/annotate-example.png\">\n",
    "</p>"
   ]
  },
  {
   "cell_type": "code",
   "execution_count": 5,
   "metadata": {
    "collapsed": false,
    "slideshow": {
     "slide_type": "slide"
    }
   },
   "outputs": [
    {
     "data": {
      "text/plain": [
       "4"
      ]
     },
     "execution_count": 5,
     "metadata": {},
     "output_type": "execute_result"
    }
   ],
   "source": [
    "# How many sentences?\n",
    "doc.size"
   ]
  },
  {
   "cell_type": "code",
   "execution_count": 6,
   "metadata": {
    "collapsed": false
   },
   "outputs": [
    {
     "name": "stdout",
     "output_type": "stream",
     "text": [
      "WORDS:\t['My', 'name', 'is', 'Inigo', 'Montoya', '.']\n",
      "\n",
      "TAGS:\t['PRP$', 'NN', 'VBZ', 'NNP', 'NNP', '.']\n",
      "\n",
      "LEMMAS:\t['my', 'name', 'be', 'Inigo', 'Montoya', '.']\n",
      "\n",
      "NAMED ENTITIES:\tdefaultdict(<class 'list'>, {'PERSON': ['Inigo Montoya']})\n",
      "\n",
      "SYNTACTIC DEPENDENCIES:\n",
      "{'destination': 2, 'source': 4, 'relation': 'cop'}\n",
      "{'destination': 3, 'source': 4, 'relation': 'nn'}\n",
      "{'destination': 5, 'source': 4, 'relation': 'punct'}\n",
      "{'destination': 1, 'source': 4, 'relation': 'nsubj'}\n",
      "{'destination': 0, 'source': 1, 'relation': 'poss'}\n"
     ]
    }
   ],
   "source": [
    "sentence = doc.sentences[1]\n",
    "print(\"WORDS:\\t{}\\n\".format(sentence.words))\n",
    "print(\"TAGS:\\t{}\\n\".format(sentence.tags))\n",
    "print(\"LEMMAS:\\t{}\\n\".format(sentence.lemmas))\n",
    "print(\"NAMED ENTITIES:\\t{}\\n\".format(sentence.nes))\n",
    "print(\"SYNTACTIC DEPENDENCIES:\")\n",
    "for edge in sentence.dependencies.edges:\n",
    "    print(edge)"
   ]
  },
  {
   "cell_type": "markdown",
   "metadata": {
    "slideshow": {
     "slide_type": "slide"
    }
   },
   "source": [
    "# Easily generate syntactic features"
   ]
  },
  {
   "cell_type": "code",
   "execution_count": 7,
   "metadata": {
    "collapsed": false,
    "slideshow": {
     "slide_type": "fragment"
    }
   },
   "outputs": [
    {
     "data": {
      "text/plain": [
       "['name_POSS_My',\n",
       " 'Montoya_COP_is',\n",
       " 'Montoya_NN_Inigo',\n",
       " 'Montoya_PUNCT_.',\n",
       " 'Montoya_NSUBJ_name']"
      ]
     },
     "execution_count": 7,
     "metadata": {},
     "output_type": "execute_result"
    }
   ],
   "source": [
    "# an edge is head_relation_dependent (outgoing_relation_incoming)\n",
    "sentence.labeled_dependencies_using(\"words\")\n",
    "#sentence.labeled_dependencies_using??"
   ]
  },
  {
   "cell_type": "code",
   "execution_count": 8,
   "metadata": {
    "collapsed": false,
    "slideshow": {
     "slide_type": "fragment"
    }
   },
   "outputs": [
    {
     "data": {
      "text/plain": [
       "['NN_PRP$', 'NNP_VBZ', 'NNP_NNP', 'NNP_.', 'NNP_NN']"
      ]
     },
     "execution_count": 8,
     "metadata": {},
     "output_type": "execute_result"
    }
   ],
   "source": [
    "sentence.unlabeled_dependencies_using(\"tags\")\n",
    "#sentence.unlabeled_dependencies_using??"
   ]
  },
  {
   "cell_type": "code",
   "execution_count": 9,
   "metadata": {
    "collapsed": false,
    "slideshow": {
     "slide_type": "fragment"
    }
   },
   "outputs": [
    {
     "name": "stdout",
     "output_type": "stream",
     "text": [
      "[(0, 'poss')]\n"
     ]
    }
   ],
   "source": [
    "deps = sentence.dependencies\n",
    "# what outgoing edges exist for token 1 (index starts at 0)?\n",
    "print(deps.outgoing[1])"
   ]
  },
  {
   "cell_type": "markdown",
   "metadata": {
    "slideshow": {
     "slide_type": "slide"
    }
   },
   "source": [
    "# Serialize to `json`"
   ]
  },
  {
   "cell_type": "code",
   "execution_count": 10,
   "metadata": {
    "collapsed": false,
    "slideshow": {
     "slide_type": "fragment"
    }
   },
   "outputs": [],
   "source": [
    "json_string = doc.to_JSON()"
   ]
  },
  {
   "cell_type": "markdown",
   "metadata": {
    "slideshow": {
     "slide_type": "subslide"
    }
   },
   "source": [
    "# Load from `json`"
   ]
  },
  {
   "cell_type": "code",
   "execution_count": 11,
   "metadata": {
    "collapsed": false,
    "slideshow": {
     "slide_type": "fragment"
    }
   },
   "outputs": [
    {
     "data": {
      "text/plain": [
       "True"
      ]
     },
     "execution_count": 11,
     "metadata": {},
     "output_type": "execute_result"
    }
   ],
   "source": [
    "doc2 = Document.load_from_JSON(json.loads(json_string))\n",
    "# customized equality!\n",
    "doc == doc2"
   ]
  },
  {
   "cell_type": "markdown",
   "metadata": {
    "slideshow": {
     "slide_type": "slide"
    }
   },
   "source": [
    "# Let's look at some examples $\\dots$"
   ]
  }
 ],
 "metadata": {
  "celltoolbar": "Slideshow",
  "kernelspec": {
   "display_name": "Python 3",
   "language": "python",
   "name": "python3"
  },
  "language_info": {
   "codemirror_mode": {
    "name": "ipython",
    "version": 3
   },
   "file_extension": ".py",
   "mimetype": "text/x-python",
   "name": "python",
   "nbconvert_exporter": "python",
   "pygments_lexer": "ipython3",
   "version": "3.5.1"
  }
 },
 "nbformat": 4,
 "nbformat_minor": 0
}
