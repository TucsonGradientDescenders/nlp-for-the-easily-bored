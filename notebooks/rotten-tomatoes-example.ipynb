{
 "cells": [
  {
   "cell_type": "code",
   "execution_count": 1,
   "metadata": {
    "collapsed": false,
    "slideshow": {
     "slide_type": "skip"
    }
   },
   "outputs": [
    {
     "data": {
      "application/javascript": [
       "IPython.OutputArea.auto_scroll_threshold = 10;"
      ],
      "text/plain": [
       "<IPython.core.display.Javascript object>"
      ]
     },
     "metadata": {},
     "output_type": "display_data"
    }
   ],
   "source": [
    "%%javascript\n",
    "IPython.OutputArea.auto_scroll_threshold = 10;"
   ]
  },
  {
   "cell_type": "markdown",
   "metadata": {
    "slideshow": {
     "slide_type": "slide"
    }
   },
   "source": [
    "# Using sentiment analysis for fun ~~and profit~~"
   ]
  },
  {
   "cell_type": "markdown",
   "metadata": {
    "slideshow": {
     "slide_type": "fragment"
    }
   },
   "source": [
    "Is that text positive or negative?  Figuring that out is called sentiment analysis."
   ]
  },
  {
   "cell_type": "markdown",
   "metadata": {
    "slideshow": {
     "slide_type": "subslide"
    }
   },
   "source": [
    "## Performing sentiment analysis with `py-processors`"
   ]
  },
  {
   "cell_type": "code",
   "execution_count": 2,
   "metadata": {
    "collapsed": false,
    "slideshow": {
     "slide_type": "subslide"
    }
   },
   "outputs": [
    {
     "name": "stdout",
     "output_type": "stream",
     "text": [
      "Using default\n"
     ]
    },
    {
     "name": "stderr",
     "output_type": "stream",
     "text": [
      "INFO - Starting processors-server (java -Xmx3G -cp /Users/gus/anaconda3/envs/bored/lib/python3.5/site-packages/processors/processors-server.jar NLPServer --port 8886 --host localhost) ...\n"
     ]
    },
    {
     "name": "stdout",
     "output_type": "stream",
     "text": [
      "\n",
      "Waiting for server...\n",
      "[===                                                         ]\n",
      "\n",
      "Connection with processors-server established (http://localhost:8886)\n"
     ]
    }
   ],
   "source": [
    "from processors import *\n",
    "# We'll be using the server in several examples\n",
    "# NOTE: you can stop it manually with API.stop_server()\n",
    "API = ProcessorsAPI(port=8886, keep_alive=True)"
   ]
  },
  {
   "cell_type": "code",
   "execution_count": 3,
   "metadata": {
    "collapsed": false,
    "slideshow": {
     "slide_type": "subslide"
    }
   },
   "outputs": [
    {
     "data": {
      "text/plain": [
       "[4]"
      ]
     },
     "execution_count": 3,
     "metadata": {},
     "output_type": "execute_result"
    }
   ],
   "source": [
    "# CoreNLP's sentiment scores range from (1 (very negative) to 5 (very positive)`)\n",
    "API.sentiment.corenlp.score_text(\"I'm so happy!\")"
   ]
  },
  {
   "cell_type": "markdown",
   "metadata": {
    "slideshow": {
     "slide_type": "subslide"
    }
   },
   "source": [
    "# Pulling movie reviews from Rotten Tomatoes using `snappytomato`\n",
    "\n",
    "Documentation: http://snappytomato.readthedocs.io/en/latest/"
   ]
  },
  {
   "cell_type": "code",
   "execution_count": 4,
   "metadata": {
    "collapsed": false,
    "slideshow": {
     "slide_type": "subslide"
    }
   },
   "outputs": [],
   "source": [
    "from snappytomato import *\n",
    "\n",
    "# path to api key\n",
    "api_key_file = \"../rt.key\"\n",
    "api_key = load_api_key(api_key_file)\n",
    "snappy = RT(api_key)"
   ]
  },
  {
   "cell_type": "markdown",
   "metadata": {
    "slideshow": {
     "slide_type": "subslide"
    }
   },
   "source": [
    "# Retrieve movie data by its title"
   ]
  },
  {
   "cell_type": "code",
   "execution_count": 5,
   "metadata": {
    "collapsed": true,
    "slideshow": {
     "slide_type": "subslide"
    }
   },
   "outputs": [],
   "source": [
    "movie = snappy.movies.movie_by_title('big trouble in little china')"
   ]
  },
  {
   "cell_type": "code",
   "execution_count": 6,
   "metadata": {
    "collapsed": false,
    "slideshow": {
     "slide_type": "subslide"
    }
   },
   "outputs": [
    {
     "name": "stdout",
     "output_type": "stream",
     "text": [
      "\n",
      "title:\t\t\t\"Big Trouble in Little China\"\n",
      "audience score:\t\t83\n",
      "critic consensus:\tunknown\n",
      "\n"
     ]
    }
   ],
   "source": [
    "summary = \"\"\"\n",
    "title:\\t\\t\\t\"{}\"\n",
    "audience score:\\t\\t{}\n",
    "critic consensus:\\t{}\n",
    "\"\"\".format(movie.title, movie.audience_score, movie.critics_consensus or \"unknown\")\n",
    "print(summary)"
   ]
  },
  {
   "cell_type": "code",
   "execution_count": 7,
   "metadata": {
    "collapsed": false,
    "slideshow": {
     "slide_type": "subslide"
    }
   },
   "outputs": [
    {
     "name": "stdout",
     "output_type": "stream",
     "text": [
      "4 reviews for \"Big Trouble in Little China\"\n",
      "\n",
      "    critic: \n",
      "    quote: \n",
      "    publication: Variety\n",
      "    source: http://www.variety.com/review/VE1117789259.html?categoryid=31&cs=1\n",
      "    freshness: none\n",
      "    original score: None\n",
      "\n",
      "    critic: \n",
      "    quote: \n",
      "    publication: Time Out\n",
      "    source: http://www.timeout.com/film/reviews/67813/big_trouble_in_little_china.html\n",
      "    freshness: none\n",
      "    original score: None\n",
      "\n",
      "    critic: Walter Goodman\n",
      "    quote: An upscale send-up.\n",
      "    publication: New York Times\n",
      "    source: http://movies.nytimes.com/movie/review?res=9A0DE6D7113BF931A35754C0A960948260&partner=Rotten Tomatoes\n",
      "    freshness: fresh\n",
      "    original score: 3/5\n",
      "\n",
      "    critic: Roger Ebert\n",
      "    quote: Special effects don't mean much unless we care about the characters who are surrounded by them, and in this movie the characters often seem to exist only to fill up the foregrounds.\n",
      "    publication: Chicago Sun-Times\n",
      "    source: http://www.rogerebert.com/reviews/big-trouble-in-little-china-1986\n",
      "    freshness: rotten\n",
      "    original score: 2/4\n"
     ]
    }
   ],
   "source": [
    "reviews = movie.reviews\n",
    "print(\"{} reviews for \\\"{}\\\"\".format(len(movie.reviews), movie.title))\n",
    "for r in reviews:\n",
    "    summary = \"\"\"\n",
    "    critic: {}\n",
    "    quote: {}\n",
    "    publication: {}\n",
    "    source: {}\n",
    "    freshness: {}\n",
    "    original score: {}\"\"\".format(r.critic, r.quote, r.publication, r.source, r.freshness, r.original_score if hasattr(r, \"original_score\") else \"None\")\n",
    "    print(summary)"
   ]
  },
  {
   "cell_type": "markdown",
   "metadata": {
    "slideshow": {
     "slide_type": "subslide"
    }
   },
   "source": [
    "# The review text\n",
    "\n",
    "Rotten Tomatoes only indexes a single quote from each review, but often they provide a link to the original review."
   ]
  },
  {
   "cell_type": "code",
   "execution_count": 8,
   "metadata": {
    "collapsed": true,
    "slideshow": {
     "slide_type": "subslide"
    }
   },
   "outputs": [],
   "source": [
    "from bs4 import BeautifulSoup\n",
    "import requests"
   ]
  },
  {
   "cell_type": "code",
   "execution_count": 9,
   "metadata": {
    "collapsed": false,
    "slideshow": {
     "slide_type": "subslide"
    }
   },
   "outputs": [
    {
     "name": "stdout",
     "output_type": "stream",
     "text": [
      "Critic: Walter Goodman\n",
      "Publication: New York Times\n",
      "Freshness: fresh\n"
     ]
    }
   ],
   "source": [
    "# hmmm...not all the reviews are positive...\n",
    "# I guess not everyone is enlightened.\n",
    "# Well, let's look at a review we know\n",
    "# to be \"fresh\"\n",
    "r = reviews[-2]\n",
    "print(\"Critic: {}\".format(r.critic))\n",
    "print(\"Publication: {}\".format(r.publication))\n",
    "print(\"Freshness: {}\".format(r.freshness))\n",
    "# not every review has a link\n",
    "url = r.links.get(\"review\", None)\n",
    "article_text = \"\"\n",
    "if url:\n",
    "    response = requests.get(url)\n",
    "    html = response.text\n",
    "    soup = BeautifulSoup(html, \"html.parser\")\n",
    "    article_text = \"\\n\".join([p.text for p in soup.find_all(\"p\")])"
   ]
  },
  {
   "cell_type": "code",
   "execution_count": 10,
   "metadata": {
    "collapsed": false,
    "slideshow": {
     "slide_type": "subslide"
    }
   },
   "outputs": [
    {
     "data": {
      "text/plain": [
       "\"Want both newspaper deliveryand free, unlimited digital access?\\nWant unlimited access to NYTimes.com and our apps?\\n\\nIF, as is not unlikely, you should lose track of what is going on in ''Big Trouble in Little China'' and think you have wandered into a festival of ''Raiders of the Lost Ark,'' ''Romancing the Stone,'' ''Star Wars,'' ''The Karate Kid,'' ''Flash Gordon'' and a throng of facsimiles, don't be concerned. What matters is the stunts and the spirit, and this latest set of exotic exploits of an indomitable hero (Kurt Russell) and a spunky heroine (Kim Cattrall) gives good value.\\n\\n\\n\\nThis ''mystical action-adventure-comedy-kung fu-monster-ghost sto ry,'' which opens today at the RKO Warner Twin and other theaters, gets going with a ferocious battle between opposing bands of Chinese gunmen, knife-slingers, sword-jugglers and high kickers and ends the same way, only more so, with blades and bodies flashing, hissing and sizzling and with sensational feats of levitation and clashings in air. I couldn't always tell the good guys from the bad, but my favorites were three fellows in what seemed to be outsized lampshades, their main weapon vividly colored static electricity; when they got charged up, they came on like manic household appliances in perpetual short circuit.\\n\\nAs for the plot, which you have already lost track of, it centers on a cocky semitrailer-truck driver named Jack Burton, played by Mr. Russell as a man with a no-nonsense approach to the many nonsensical affronts he is subject to along the way (or, just possibly, dreams up himself). At one point, he inquires of a bad guy, ''Are you crazy, is that your problem?'' Streetwise to the point of stupidity, repeatedly taken by surprise but never admitting it, Jack speaks for you and me, only he has better reflexes.\\n\\n\\nWith the help of a couple of Chinese pals (Dennis Dun and Victor Wong, a Chinese leprechaun), Jack sets out to rescue a green-eyed girl or two from the fangs of the ageless Lo Pan, ''a creature of dark, destructive power.'' This self-pitying version of Fu Manchu (James Hong camping it up), resides in the bowels of San Francisco's Chinatown, which you can reach by firepole. Naturally, he has to marry and sacrifice a green-eyed damsel in order to take over the universe, and he will stop at nothing to do so.\\n\\n\\nIn kidding the flavorsome proceedings even as he gets the juice out of them, the director, John Carpenter, is conspicuously with it. When a magic potion is served round, it is done in a yuppie bar. The screenplay by Gary Goldman, David Z. Weinstein and W. D. Richter provides a diligent and dumb newspaper reporter from the radical Berkeley People's Herald named Margo (Kate Burton) who talks like a Saturday serial. The script is generous with throwaway lines: ''I don't like the looks of this,'' remarks one of the good guys as a bloodthirsty hoard charges him. upon him. Before dashing into an elevator to escape the hot blades of some crazed pursuers, somebody is sure to inquire, ''Is it going up?'' ''Big Trouble in Little China'' is an upscale send-up.\\n\\n\\n''Big Trouble in Little China'' is rated PG-13 (''Special Parental Guidance Suggested'' for Those Younger Than 13) because of some bad language.\\n\\n\\nMAD MELANGE - BIG TROUBLE IN LITTLE CHINA, directed by John Carpenter; written by Gary Goldman and David Z. Weinstein; adaptation by W. D. Richter; director of photography, Dean Cundey; edited by Mark Warner, Steve Mirkovich and Edward A. Warschilka; music by Mr. Carpenter in association with Alan Howarth; produced by Larry J. Franco; released by 20th Century- Fox. At RKO Warner Twin, Broadway at 47th Street; Plaza, 42 East 58th Street; 86th Street East, at Third Avenue; Art Greenwich Twin, Greenwich Avenue at 12th Street; Coliseum, 181st Street at Broadway. Running time: 100 minutes. This film is rated PG-13.\\n\\n\\nJack Burton...Kurt Russell; Gracie Law...Kim Cattrall; Wang Chi...Dennis Dun; Lo Pan...James Hong; Egg Shen...Victor Wong; Margo...Kate Burton; Eddie Lee...Donald Li; Thunder...Carter Wong; Rain...Peter Kwong; Lightning...James Pax; Miao Yin...Suzee Pai; Uncle Chu...Chao Li Chi; Needles...Jeff Imada; Joe Lucky...Rummel Mor.\""
      ]
     },
     "execution_count": 10,
     "metadata": {},
     "output_type": "execute_result"
    }
   ],
   "source": [
    "article_text"
   ]
  },
  {
   "cell_type": "code",
   "execution_count": 11,
   "metadata": {
    "collapsed": false,
    "slideshow": {
     "slide_type": "subslide"
    }
   },
   "outputs": [
    {
     "data": {
      "text/plain": [
       "[2, 2, 0, 3, 1, 1, 1, 1, 1, 1, 1, 1, 1, 3, 1, 3, 2, 1, 2, 1, 1, 0, 2, 3, 1]"
      ]
     },
     "execution_count": 11,
     "metadata": {},
     "output_type": "execute_result"
    }
   ],
   "source": [
    "sentiment_scores = API.sentiment.corenlp.score_text(article_text)\n",
    "print(sentiment_scores)"
   ]
  },
  {
   "cell_type": "markdown",
   "metadata": {
    "slideshow": {
     "slide_type": "slide"
    }
   },
   "source": [
    "# Problem?\n",
    "\n",
    "We know our review is supposed to be \"fresh\", but we're getting a lot of low scores.  What's going on here? "
   ]
  },
  {
   "cell_type": "markdown",
   "metadata": {
    "slideshow": {
     "slide_type": "subslide"
    }
   },
   "source": [
    "## Challenge 1: \n",
    "    - Why does the sentiment seem negative when the review is positive?\n",
    "    - How can we select the relevant text for sentiment analysis of a review?\n"
   ]
  },
  {
   "cell_type": "code",
   "execution_count": 12,
   "metadata": {
    "collapsed": false,
    "slideshow": {
     "slide_type": "fragment"
    }
   },
   "outputs": [
    {
     "data": {
      "text/plain": [
       "[4]"
      ]
     },
     "execution_count": 12,
     "metadata": {},
     "output_type": "execute_result"
    }
   ],
   "source": [
    "API.sentiment.corenlp.score_text(\"I'm so happy!\")"
   ]
  },
  {
   "cell_type": "markdown",
   "metadata": {
    "slideshow": {
     "slide_type": "subslide"
    }
   },
   "source": [
    "## Challenge 2:\n",
    "\n",
    " - Use of emoticons is quite common in informal speech (social media, etc.).  The CoreNLP sentiment analysis system is not emoticon-aware:"
   ]
  },
  {
   "cell_type": "code",
   "execution_count": 13,
   "metadata": {
    "collapsed": false,
    "slideshow": {
     "slide_type": "fragment"
    }
   },
   "outputs": [
    {
     "data": {
      "text/plain": [
       "[2]"
      ]
     },
     "execution_count": 13,
     "metadata": {},
     "output_type": "execute_result"
    }
   ],
   "source": [
    "API.sentiment.corenlp.score_text(\":)\")"
   ]
  },
  {
   "cell_type": "markdown",
   "metadata": {
    "slideshow": {
     "slide_type": "fragment"
    }
   },
   "source": [
    "- Build a sentiment analysis system for emoticons"
   ]
  }
 ],
 "metadata": {
  "celltoolbar": "Slideshow",
  "kernelspec": {
   "display_name": "Python 3",
   "language": "python",
   "name": "python3"
  },
  "language_info": {
   "codemirror_mode": {
    "name": "ipython",
    "version": 3
   },
   "file_extension": ".py",
   "mimetype": "text/x-python",
   "name": "python",
   "nbconvert_exporter": "python",
   "pygments_lexer": "ipython3",
   "version": "3.5.1"
  }
 },
 "nbformat": 4,
 "nbformat_minor": 0
}
